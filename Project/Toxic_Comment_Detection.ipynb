{
  "nbformat": 4,
  "nbformat_minor": 0,
  "metadata": {
    "colab": {
      "provenance": [],
      "toc_visible": true,
      "include_colab_link": true
    },
    "kernelspec": {
      "name": "python3",
      "display_name": "Python 3"
    },
    "language_info": {
      "name": "python"
    }
  },
  "cells": [
    {
      "cell_type": "markdown",
      "metadata": {
        "id": "view-in-github",
        "colab_type": "text"
      },
      "source": [
        "<a href=\"https://colab.research.google.com/github/Tlon9/CS114/blob/main/Project/Toxic_Comment_Detection.ipynb\" target=\"_parent\"><img src=\"https://colab.research.google.com/assets/colab-badge.svg\" alt=\"Open In Colab\"/></a>"
      ]
    },
    {
      "cell_type": "code",
      "source": [
        "from google.colab import drive\n",
        "drive.mount('/content/drive')"
      ],
      "metadata": {
        "id": "RnmuW0n6VpB9"
      },
      "execution_count": null,
      "outputs": []
    },
    {
      "cell_type": "code",
      "source": [
        "!pip install vncorenlp"
      ],
      "metadata": {
        "id": "XX5jFNlfQqtw"
      },
      "execution_count": null,
      "outputs": []
    },
    {
      "cell_type": "code",
      "source": [
        "!pip install py_vncorenlp"
      ],
      "metadata": {
        "id": "nlawTiJ2Qv45"
      },
      "execution_count": null,
      "outputs": []
    },
    {
      "cell_type": "code",
      "source": [
        "!pip install unidecode"
      ],
      "metadata": {
        "id": "co3sxYEtQ0TY"
      },
      "execution_count": null,
      "outputs": []
    },
    {
      "cell_type": "code",
      "source": [
        "!pip install transformers"
      ],
      "metadata": {
        "id": "N-iqEhuVQ18V"
      },
      "execution_count": null,
      "outputs": []
    },
    {
      "cell_type": "code",
      "source": [
        "!pip install autokeras"
      ],
      "metadata": {
        "id": "zbjle3oI_R7r"
      },
      "execution_count": null,
      "outputs": []
    },
    {
      "cell_type": "markdown",
      "source": [
        "## Library Setup"
      ],
      "metadata": {
        "id": "HCO2GbRE8qlW"
      }
    },
    {
      "cell_type": "code",
      "source": [
        "import torch\n",
        "from transformers import AutoModel, AutoTokenizer\n",
        "\n",
        "phobert = AutoModel.from_pretrained(\"vinai/phobert-base-v2\")\n",
        "tokenizer = AutoTokenizer.from_pretrained(\"vinai/phobert-base-v2\")"
      ],
      "metadata": {
        "id": "iaC48HVGkqSr"
      },
      "execution_count": null,
      "outputs": []
    },
    {
      "cell_type": "code",
      "source": [
        "import numpy as np\n",
        "from unidecode import unidecode\n",
        "\n",
        "import matplotlib.pyplot as plt\n",
        "import seaborn as sns\n",
        "import collections\n",
        "from wordcloud import WordCloud\n",
        "\n",
        "import pandas as pd\n",
        "import nltk\n",
        "from nltk.corpus import stopwords\n",
        "from nltk.tokenize import word_tokenize\n",
        "from nltk.stem import SnowballStemmer, WordNetLemmatizer\n",
        "\n",
        "from sklearn.preprocessing import StandardScaler, MinMaxScaler, MaxAbsScaler\n",
        "from sklearn.model_selection import train_test_split, GridSearchCV, ShuffleSplit\n",
        "from sklearn.feature_extraction.text import CountVectorizer, TfidfVectorizer\n",
        "from sklearn.naive_bayes import MultinomialNB, BernoulliNB\n",
        "from sklearn import svm\n",
        "from sklearn.tree import DecisionTreeClassifier\n",
        "from sklearn.ensemble import RandomForestClassifier\n",
        "from sklearn.linear_model import LogisticRegression\n",
        "from sklearn.metrics import confusion_matrix, accuracy_score, confusion_matrix, classification_report, precision_score, recall_score, f1_score"
      ],
      "metadata": {
        "id": "BCBU8iDw8pDT"
      },
      "execution_count": null,
      "outputs": []
    },
    {
      "cell_type": "code",
      "source": [
        "#Set up vncorelp to use in this assignment\n",
        "import logging\n",
        "from vncorenlp import VnCoreNLP\n",
        "import py_vncorenlp"
      ],
      "metadata": {
        "id": "L5LmSAtxFemb"
      },
      "execution_count": null,
      "outputs": []
    },
    {
      "cell_type": "code",
      "source": [
        "#!cp '/content/drive/MyDrive/CS114 /Final_Project/abbreviations.py' '/content/abbreviations.py'\n",
        "\n",
        "!cp '/content/drive/MyDrive/CS114/Final_Project/abbreviations.py' '/content/abbreviations.py'"
      ],
      "metadata": {
        "id": "lg0Am028R8NR"
      },
      "execution_count": null,
      "outputs": []
    },
    {
      "cell_type": "code",
      "source": [
        "!ls"
      ],
      "metadata": {
        "colab": {
          "base_uri": "https://localhost:8080/"
        },
        "id": "odNz8REgTCii",
        "outputId": "ad00e22e-00b6-40d7-a8fd-520b2e79379d"
      },
      "execution_count": null,
      "outputs": [
        {
          "output_type": "stream",
          "name": "stdout",
          "text": [
            "abbreviations.py  drive  sample_data\n"
          ]
        }
      ]
    },
    {
      "cell_type": "code",
      "source": [
        "from abbreviations import Abb"
      ],
      "metadata": {
        "id": "sLpiqASY4lTe",
        "colab": {
          "base_uri": "https://localhost:8080/"
        },
        "outputId": "bb94ece0-ce86-4048-e082-948eced355b2"
      },
      "execution_count": null,
      "outputs": [
        {
          "output_type": "stream",
          "name": "stdout",
          "text": [
            "Drive already mounted at /content/drive; to attempt to forcibly remount, call drive.mount(\"/content/drive\", force_remount=True).\n"
          ]
        }
      ]
    },
    {
      "cell_type": "code",
      "source": [
        "#py_vncorenlp.download_model(save_dir='/content/drive/MyDrive/Sarcasm/vnNLP')\n",
        "py_vncorenlp.download_model(save_dir='/content/')\n",
        "\n",
        "# Load VnCoreNLP from the local working folder that contains both `VnCoreNLP-1.2.jar` and `models`\n",
        "#model = py_vncorenlp.VnCoreNLP(save_dir='/content/drive/MyDrive/Sarcasm/vnNLP')\n",
        "model_vncorenlp = py_vncorenlp.VnCoreNLP(save_dir='/content/')"
      ],
      "metadata": {
        "id": "RRrjfo-EHK_e"
      },
      "execution_count": null,
      "outputs": []
    },
    {
      "cell_type": "markdown",
      "source": [
        "#Load data"
      ],
      "metadata": {
        "id": "bNPt6brjKxTb"
      }
    },
    {
      "cell_type": "code",
      "source": [
        "#link_data = '/content/drive/MyDrive/CS114 /Final_Project/Dataset.csv'\n",
        "link_data = '/content/drive/MyDrive/CS114/Final_Project/Dataset.csv'\n",
        "data = pd.read_csv(link_data)\n",
        "data.head ()"
      ],
      "metadata": {
        "colab": {
          "base_uri": "https://localhost:8080/",
          "height": 206
        },
        "id": "OEm7URqe9J0R",
        "outputId": "8916703d-b092-4edd-e298-1c5a2c93a588"
      },
      "execution_count": null,
      "outputs": [
        {
          "output_type": "execute_result",
          "data": {
            "text/plain": [
              "   Id  Label                                            Comment\n",
              "0   1      0                              Slayder, GAM cần anh.\n",
              "1   2      0             Dạ mỗi khi Gam cần, em luôn sẵn sèng!!\n",
              "2   3      0  sờ ty lè k chỉ nhảy qua tường, sờ ty lè nhảy p...\n",
              "3   4      0                         Mê cái cách anh này nhảy E\n",
              "4   5      0   Chúc mừng\\nGam đã có kỳ chuyển nhượng thành công"
            ],
            "text/html": [
              "\n",
              "  <div id=\"df-50f612da-937b-43fc-8c79-8e6d2a58c03e\">\n",
              "    <div class=\"colab-df-container\">\n",
              "      <div>\n",
              "<style scoped>\n",
              "    .dataframe tbody tr th:only-of-type {\n",
              "        vertical-align: middle;\n",
              "    }\n",
              "\n",
              "    .dataframe tbody tr th {\n",
              "        vertical-align: top;\n",
              "    }\n",
              "\n",
              "    .dataframe thead th {\n",
              "        text-align: right;\n",
              "    }\n",
              "</style>\n",
              "<table border=\"1\" class=\"dataframe\">\n",
              "  <thead>\n",
              "    <tr style=\"text-align: right;\">\n",
              "      <th></th>\n",
              "      <th>Id</th>\n",
              "      <th>Label</th>\n",
              "      <th>Comment</th>\n",
              "    </tr>\n",
              "  </thead>\n",
              "  <tbody>\n",
              "    <tr>\n",
              "      <th>0</th>\n",
              "      <td>1</td>\n",
              "      <td>0</td>\n",
              "      <td>Slayder, GAM cần anh.</td>\n",
              "    </tr>\n",
              "    <tr>\n",
              "      <th>1</th>\n",
              "      <td>2</td>\n",
              "      <td>0</td>\n",
              "      <td>Dạ mỗi khi Gam cần, em luôn sẵn sèng!!</td>\n",
              "    </tr>\n",
              "    <tr>\n",
              "      <th>2</th>\n",
              "      <td>3</td>\n",
              "      <td>0</td>\n",
              "      <td>sờ ty lè k chỉ nhảy qua tường, sờ ty lè nhảy p...</td>\n",
              "    </tr>\n",
              "    <tr>\n",
              "      <th>3</th>\n",
              "      <td>4</td>\n",
              "      <td>0</td>\n",
              "      <td>Mê cái cách anh này nhảy E</td>\n",
              "    </tr>\n",
              "    <tr>\n",
              "      <th>4</th>\n",
              "      <td>5</td>\n",
              "      <td>0</td>\n",
              "      <td>Chúc mừng\\nGam đã có kỳ chuyển nhượng thành công</td>\n",
              "    </tr>\n",
              "  </tbody>\n",
              "</table>\n",
              "</div>\n",
              "      <button class=\"colab-df-convert\" onclick=\"convertToInteractive('df-50f612da-937b-43fc-8c79-8e6d2a58c03e')\"\n",
              "              title=\"Convert this dataframe to an interactive table.\"\n",
              "              style=\"display:none;\">\n",
              "        \n",
              "  <svg xmlns=\"http://www.w3.org/2000/svg\" height=\"24px\"viewBox=\"0 0 24 24\"\n",
              "       width=\"24px\">\n",
              "    <path d=\"M0 0h24v24H0V0z\" fill=\"none\"/>\n",
              "    <path d=\"M18.56 5.44l.94 2.06.94-2.06 2.06-.94-2.06-.94-.94-2.06-.94 2.06-2.06.94zm-11 1L8.5 8.5l.94-2.06 2.06-.94-2.06-.94L8.5 2.5l-.94 2.06-2.06.94zm10 10l.94 2.06.94-2.06 2.06-.94-2.06-.94-.94-2.06-.94 2.06-2.06.94z\"/><path d=\"M17.41 7.96l-1.37-1.37c-.4-.4-.92-.59-1.43-.59-.52 0-1.04.2-1.43.59L10.3 9.45l-7.72 7.72c-.78.78-.78 2.05 0 2.83L4 21.41c.39.39.9.59 1.41.59.51 0 1.02-.2 1.41-.59l7.78-7.78 2.81-2.81c.8-.78.8-2.07 0-2.86zM5.41 20L4 18.59l7.72-7.72 1.47 1.35L5.41 20z\"/>\n",
              "  </svg>\n",
              "      </button>\n",
              "      \n",
              "  <style>\n",
              "    .colab-df-container {\n",
              "      display:flex;\n",
              "      flex-wrap:wrap;\n",
              "      gap: 12px;\n",
              "    }\n",
              "\n",
              "    .colab-df-convert {\n",
              "      background-color: #E8F0FE;\n",
              "      border: none;\n",
              "      border-radius: 50%;\n",
              "      cursor: pointer;\n",
              "      display: none;\n",
              "      fill: #1967D2;\n",
              "      height: 32px;\n",
              "      padding: 0 0 0 0;\n",
              "      width: 32px;\n",
              "    }\n",
              "\n",
              "    .colab-df-convert:hover {\n",
              "      background-color: #E2EBFA;\n",
              "      box-shadow: 0px 1px 2px rgba(60, 64, 67, 0.3), 0px 1px 3px 1px rgba(60, 64, 67, 0.15);\n",
              "      fill: #174EA6;\n",
              "    }\n",
              "\n",
              "    [theme=dark] .colab-df-convert {\n",
              "      background-color: #3B4455;\n",
              "      fill: #D2E3FC;\n",
              "    }\n",
              "\n",
              "    [theme=dark] .colab-df-convert:hover {\n",
              "      background-color: #434B5C;\n",
              "      box-shadow: 0px 1px 3px 1px rgba(0, 0, 0, 0.15);\n",
              "      filter: drop-shadow(0px 1px 2px rgba(0, 0, 0, 0.3));\n",
              "      fill: #FFFFFF;\n",
              "    }\n",
              "  </style>\n",
              "\n",
              "      <script>\n",
              "        const buttonEl =\n",
              "          document.querySelector('#df-50f612da-937b-43fc-8c79-8e6d2a58c03e button.colab-df-convert');\n",
              "        buttonEl.style.display =\n",
              "          google.colab.kernel.accessAllowed ? 'block' : 'none';\n",
              "\n",
              "        async function convertToInteractive(key) {\n",
              "          const element = document.querySelector('#df-50f612da-937b-43fc-8c79-8e6d2a58c03e');\n",
              "          const dataTable =\n",
              "            await google.colab.kernel.invokeFunction('convertToInteractive',\n",
              "                                                     [key], {});\n",
              "          if (!dataTable) return;\n",
              "\n",
              "          const docLinkHtml = 'Like what you see? Visit the ' +\n",
              "            '<a target=\"_blank\" href=https://colab.research.google.com/notebooks/data_table.ipynb>data table notebook</a>'\n",
              "            + ' to learn more about interactive tables.';\n",
              "          element.innerHTML = '';\n",
              "          dataTable['output_type'] = 'display_data';\n",
              "          await google.colab.output.renderOutput(dataTable, element);\n",
              "          const docLink = document.createElement('div');\n",
              "          docLink.innerHTML = docLinkHtml;\n",
              "          element.appendChild(docLink);\n",
              "        }\n",
              "      </script>\n",
              "    </div>\n",
              "  </div>\n",
              "  "
            ]
          },
          "metadata": {},
          "execution_count": 110
        }
      ]
    },
    {
      "cell_type": "markdown",
      "source": [
        "##Xóa mẫu chưa gán nhãn"
      ],
      "metadata": {
        "id": "SpKy55OhL9jB"
      }
    },
    {
      "cell_type": "code",
      "source": [
        "index = data[data['Label'].isnull() == True].index\n",
        "data.drop(index, inplace= True)"
      ],
      "metadata": {
        "id": "DWrXUYxOhYMC"
      },
      "execution_count": null,
      "outputs": []
    },
    {
      "cell_type": "code",
      "source": [
        "data.info ()"
      ],
      "metadata": {
        "colab": {
          "base_uri": "https://localhost:8080/"
        },
        "id": "c2BnbKdfAGy6",
        "outputId": "4bad5f55-e1fa-46ef-b963-234921b429a0"
      },
      "execution_count": null,
      "outputs": [
        {
          "output_type": "stream",
          "name": "stdout",
          "text": [
            "<class 'pandas.core.frame.DataFrame'>\n",
            "RangeIndex: 10691 entries, 0 to 10690\n",
            "Data columns (total 3 columns):\n",
            " #   Column   Non-Null Count  Dtype \n",
            "---  ------   --------------  ----- \n",
            " 0   Id       10691 non-null  int64 \n",
            " 1   Label    10691 non-null  int64 \n",
            " 2   Comment  10691 non-null  object\n",
            "dtypes: int64(2), object(1)\n",
            "memory usage: 250.7+ KB\n"
          ]
        }
      ]
    },
    {
      "cell_type": "markdown",
      "source": [
        "##Kiểm tra nhãn"
      ],
      "metadata": {
        "id": "_KwoNwMTMDTN"
      }
    },
    {
      "cell_type": "code",
      "source": [
        "values = set()\n",
        "data['Label'].apply(lambda x: values.add(x))\n",
        "print(values)"
      ],
      "metadata": {
        "colab": {
          "base_uri": "https://localhost:8080/"
        },
        "id": "fh0vh4IxAL04",
        "outputId": "ebec5971-c722-4577-e782-4ad648f92a31"
      },
      "execution_count": null,
      "outputs": [
        {
          "output_type": "stream",
          "name": "stdout",
          "text": [
            "{0, 1, 2}\n"
          ]
        }
      ]
    },
    {
      "cell_type": "markdown",
      "source": [
        "# Preprocessing - Tiền xử lý dữ liệu"
      ],
      "metadata": {
        "id": "xMw6rpjlAdco"
      }
    },
    {
      "cell_type": "code",
      "source": [
        "data.duplicated().sum()"
      ],
      "metadata": {
        "colab": {
          "base_uri": "https://localhost:8080/"
        },
        "id": "baqAGJG3ExjQ",
        "outputId": "17ac9306-d53b-4800-f0bc-8a8bf6006c66"
      },
      "execution_count": null,
      "outputs": [
        {
          "output_type": "execute_result",
          "data": {
            "text/plain": [
              "0"
            ]
          },
          "metadata": {},
          "execution_count": 114
        }
      ]
    },
    {
      "cell_type": "code",
      "source": [
        "#Đưa các từ lowercase\n",
        "data['text'] = data['Comment'].str.lower()\n",
        "#Loại bỏ dấu câu\n",
        "character = ['\\'','.',',','-',':','\"','!','~','?',']','*']\n",
        "character = set(character)\n",
        "data['text'] = data['text'].apply(lambda x: ''.join([char for char in x if char not in character]))\n",
        "data.head()"
      ],
      "metadata": {
        "colab": {
          "base_uri": "https://localhost:8080/",
          "height": 206
        },
        "id": "6ULMmr3HAfhL",
        "outputId": "963591eb-0535-49f8-f22f-494c628d9295"
      },
      "execution_count": null,
      "outputs": [
        {
          "output_type": "execute_result",
          "data": {
            "text/plain": [
              "   Id  Label                                            Comment  \\\n",
              "0   1      0                              Slayder, GAM cần anh.   \n",
              "1   2      0             Dạ mỗi khi Gam cần, em luôn sẵn sèng!!   \n",
              "2   3      0  sờ ty lè k chỉ nhảy qua tường, sờ ty lè nhảy p...   \n",
              "3   4      0                         Mê cái cách anh này nhảy E   \n",
              "4   5      0   Chúc mừng\\nGam đã có kỳ chuyển nhượng thành công   \n",
              "\n",
              "                                                text  \n",
              "0                                slayder gam cần anh  \n",
              "1                dạ mỗi khi gam cần em luôn sẵn sèng  \n",
              "2  sờ ty lè k chỉ nhảy qua tường sờ ty lè nhảy ph...  \n",
              "3                         mê cái cách anh này nhảy e  \n",
              "4   chúc mừng\\ngam đã có kỳ chuyển nhượng thành công  "
            ],
            "text/html": [
              "\n",
              "  <div id=\"df-59d8487d-f1b2-4f7c-acbb-493420bde1da\">\n",
              "    <div class=\"colab-df-container\">\n",
              "      <div>\n",
              "<style scoped>\n",
              "    .dataframe tbody tr th:only-of-type {\n",
              "        vertical-align: middle;\n",
              "    }\n",
              "\n",
              "    .dataframe tbody tr th {\n",
              "        vertical-align: top;\n",
              "    }\n",
              "\n",
              "    .dataframe thead th {\n",
              "        text-align: right;\n",
              "    }\n",
              "</style>\n",
              "<table border=\"1\" class=\"dataframe\">\n",
              "  <thead>\n",
              "    <tr style=\"text-align: right;\">\n",
              "      <th></th>\n",
              "      <th>Id</th>\n",
              "      <th>Label</th>\n",
              "      <th>Comment</th>\n",
              "      <th>text</th>\n",
              "    </tr>\n",
              "  </thead>\n",
              "  <tbody>\n",
              "    <tr>\n",
              "      <th>0</th>\n",
              "      <td>1</td>\n",
              "      <td>0</td>\n",
              "      <td>Slayder, GAM cần anh.</td>\n",
              "      <td>slayder gam cần anh</td>\n",
              "    </tr>\n",
              "    <tr>\n",
              "      <th>1</th>\n",
              "      <td>2</td>\n",
              "      <td>0</td>\n",
              "      <td>Dạ mỗi khi Gam cần, em luôn sẵn sèng!!</td>\n",
              "      <td>dạ mỗi khi gam cần em luôn sẵn sèng</td>\n",
              "    </tr>\n",
              "    <tr>\n",
              "      <th>2</th>\n",
              "      <td>3</td>\n",
              "      <td>0</td>\n",
              "      <td>sờ ty lè k chỉ nhảy qua tường, sờ ty lè nhảy p...</td>\n",
              "      <td>sờ ty lè k chỉ nhảy qua tường sờ ty lè nhảy ph...</td>\n",
              "    </tr>\n",
              "    <tr>\n",
              "      <th>3</th>\n",
              "      <td>4</td>\n",
              "      <td>0</td>\n",
              "      <td>Mê cái cách anh này nhảy E</td>\n",
              "      <td>mê cái cách anh này nhảy e</td>\n",
              "    </tr>\n",
              "    <tr>\n",
              "      <th>4</th>\n",
              "      <td>5</td>\n",
              "      <td>0</td>\n",
              "      <td>Chúc mừng\\nGam đã có kỳ chuyển nhượng thành công</td>\n",
              "      <td>chúc mừng\\ngam đã có kỳ chuyển nhượng thành công</td>\n",
              "    </tr>\n",
              "  </tbody>\n",
              "</table>\n",
              "</div>\n",
              "      <button class=\"colab-df-convert\" onclick=\"convertToInteractive('df-59d8487d-f1b2-4f7c-acbb-493420bde1da')\"\n",
              "              title=\"Convert this dataframe to an interactive table.\"\n",
              "              style=\"display:none;\">\n",
              "        \n",
              "  <svg xmlns=\"http://www.w3.org/2000/svg\" height=\"24px\"viewBox=\"0 0 24 24\"\n",
              "       width=\"24px\">\n",
              "    <path d=\"M0 0h24v24H0V0z\" fill=\"none\"/>\n",
              "    <path d=\"M18.56 5.44l.94 2.06.94-2.06 2.06-.94-2.06-.94-.94-2.06-.94 2.06-2.06.94zm-11 1L8.5 8.5l.94-2.06 2.06-.94-2.06-.94L8.5 2.5l-.94 2.06-2.06.94zm10 10l.94 2.06.94-2.06 2.06-.94-2.06-.94-.94-2.06-.94 2.06-2.06.94z\"/><path d=\"M17.41 7.96l-1.37-1.37c-.4-.4-.92-.59-1.43-.59-.52 0-1.04.2-1.43.59L10.3 9.45l-7.72 7.72c-.78.78-.78 2.05 0 2.83L4 21.41c.39.39.9.59 1.41.59.51 0 1.02-.2 1.41-.59l7.78-7.78 2.81-2.81c.8-.78.8-2.07 0-2.86zM5.41 20L4 18.59l7.72-7.72 1.47 1.35L5.41 20z\"/>\n",
              "  </svg>\n",
              "      </button>\n",
              "      \n",
              "  <style>\n",
              "    .colab-df-container {\n",
              "      display:flex;\n",
              "      flex-wrap:wrap;\n",
              "      gap: 12px;\n",
              "    }\n",
              "\n",
              "    .colab-df-convert {\n",
              "      background-color: #E8F0FE;\n",
              "      border: none;\n",
              "      border-radius: 50%;\n",
              "      cursor: pointer;\n",
              "      display: none;\n",
              "      fill: #1967D2;\n",
              "      height: 32px;\n",
              "      padding: 0 0 0 0;\n",
              "      width: 32px;\n",
              "    }\n",
              "\n",
              "    .colab-df-convert:hover {\n",
              "      background-color: #E2EBFA;\n",
              "      box-shadow: 0px 1px 2px rgba(60, 64, 67, 0.3), 0px 1px 3px 1px rgba(60, 64, 67, 0.15);\n",
              "      fill: #174EA6;\n",
              "    }\n",
              "\n",
              "    [theme=dark] .colab-df-convert {\n",
              "      background-color: #3B4455;\n",
              "      fill: #D2E3FC;\n",
              "    }\n",
              "\n",
              "    [theme=dark] .colab-df-convert:hover {\n",
              "      background-color: #434B5C;\n",
              "      box-shadow: 0px 1px 3px 1px rgba(0, 0, 0, 0.15);\n",
              "      filter: drop-shadow(0px 1px 2px rgba(0, 0, 0, 0.3));\n",
              "      fill: #FFFFFF;\n",
              "    }\n",
              "  </style>\n",
              "\n",
              "      <script>\n",
              "        const buttonEl =\n",
              "          document.querySelector('#df-59d8487d-f1b2-4f7c-acbb-493420bde1da button.colab-df-convert');\n",
              "        buttonEl.style.display =\n",
              "          google.colab.kernel.accessAllowed ? 'block' : 'none';\n",
              "\n",
              "        async function convertToInteractive(key) {\n",
              "          const element = document.querySelector('#df-59d8487d-f1b2-4f7c-acbb-493420bde1da');\n",
              "          const dataTable =\n",
              "            await google.colab.kernel.invokeFunction('convertToInteractive',\n",
              "                                                     [key], {});\n",
              "          if (!dataTable) return;\n",
              "\n",
              "          const docLinkHtml = 'Like what you see? Visit the ' +\n",
              "            '<a target=\"_blank\" href=https://colab.research.google.com/notebooks/data_table.ipynb>data table notebook</a>'\n",
              "            + ' to learn more about interactive tables.';\n",
              "          element.innerHTML = '';\n",
              "          dataTable['output_type'] = 'display_data';\n",
              "          await google.colab.output.renderOutput(dataTable, element);\n",
              "          const docLink = document.createElement('div');\n",
              "          docLink.innerHTML = docLinkHtml;\n",
              "          element.appendChild(docLink);\n",
              "        }\n",
              "      </script>\n",
              "    </div>\n",
              "  </div>\n",
              "  "
            ]
          },
          "metadata": {},
          "execution_count": 115
        }
      ]
    },
    {
      "cell_type": "markdown",
      "source": [
        "##Giải nghĩa từ viết tắt"
      ],
      "metadata": {
        "id": "4VBcNhMZMQ2Z"
      }
    },
    {
      "cell_type": "code",
      "source": [
        "abb = Abb()\n",
        "data['text'] = data['text'].apply(lambda x: ''.join([abb.rep(char)+' ' for char in x.split()]))\n",
        "data.head()"
      ],
      "metadata": {
        "colab": {
          "base_uri": "https://localhost:8080/",
          "height": 206
        },
        "id": "dayPM3gcFLSU",
        "outputId": "010e4c34-479d-4f87-a9ed-3ca6d42ed8ca"
      },
      "execution_count": null,
      "outputs": [
        {
          "output_type": "execute_result",
          "data": {
            "text/plain": [
              "   Id  Label                                            Comment  \\\n",
              "0   1      0                              Slayder, GAM cần anh.   \n",
              "1   2      0             Dạ mỗi khi Gam cần, em luôn sẵn sèng!!   \n",
              "2   3      0  sờ ty lè k chỉ nhảy qua tường, sờ ty lè nhảy p...   \n",
              "3   4      0                         Mê cái cách anh này nhảy E   \n",
              "4   5      0   Chúc mừng\\nGam đã có kỳ chuyển nhượng thành công   \n",
              "\n",
              "                                                text  \n",
              "0                               slayder gam cần anh   \n",
              "1               dạ mỗi khi gam cần em luôn sẵn sèng   \n",
              "2  sờ ty lè không chỉ nhảy qua tường sờ ty lè nhả...  \n",
              "3                       mê cái cách anh này nhảy em   \n",
              "4   chúc mừng gam đã có kỳ chuyển nhượng thành công   "
            ],
            "text/html": [
              "\n",
              "  <div id=\"df-27b82e14-1744-4574-a214-4ffdcef7a705\">\n",
              "    <div class=\"colab-df-container\">\n",
              "      <div>\n",
              "<style scoped>\n",
              "    .dataframe tbody tr th:only-of-type {\n",
              "        vertical-align: middle;\n",
              "    }\n",
              "\n",
              "    .dataframe tbody tr th {\n",
              "        vertical-align: top;\n",
              "    }\n",
              "\n",
              "    .dataframe thead th {\n",
              "        text-align: right;\n",
              "    }\n",
              "</style>\n",
              "<table border=\"1\" class=\"dataframe\">\n",
              "  <thead>\n",
              "    <tr style=\"text-align: right;\">\n",
              "      <th></th>\n",
              "      <th>Id</th>\n",
              "      <th>Label</th>\n",
              "      <th>Comment</th>\n",
              "      <th>text</th>\n",
              "    </tr>\n",
              "  </thead>\n",
              "  <tbody>\n",
              "    <tr>\n",
              "      <th>0</th>\n",
              "      <td>1</td>\n",
              "      <td>0</td>\n",
              "      <td>Slayder, GAM cần anh.</td>\n",
              "      <td>slayder gam cần anh</td>\n",
              "    </tr>\n",
              "    <tr>\n",
              "      <th>1</th>\n",
              "      <td>2</td>\n",
              "      <td>0</td>\n",
              "      <td>Dạ mỗi khi Gam cần, em luôn sẵn sèng!!</td>\n",
              "      <td>dạ mỗi khi gam cần em luôn sẵn sèng</td>\n",
              "    </tr>\n",
              "    <tr>\n",
              "      <th>2</th>\n",
              "      <td>3</td>\n",
              "      <td>0</td>\n",
              "      <td>sờ ty lè k chỉ nhảy qua tường, sờ ty lè nhảy p...</td>\n",
              "      <td>sờ ty lè không chỉ nhảy qua tường sờ ty lè nhả...</td>\n",
              "    </tr>\n",
              "    <tr>\n",
              "      <th>3</th>\n",
              "      <td>4</td>\n",
              "      <td>0</td>\n",
              "      <td>Mê cái cách anh này nhảy E</td>\n",
              "      <td>mê cái cách anh này nhảy em</td>\n",
              "    </tr>\n",
              "    <tr>\n",
              "      <th>4</th>\n",
              "      <td>5</td>\n",
              "      <td>0</td>\n",
              "      <td>Chúc mừng\\nGam đã có kỳ chuyển nhượng thành công</td>\n",
              "      <td>chúc mừng gam đã có kỳ chuyển nhượng thành công</td>\n",
              "    </tr>\n",
              "  </tbody>\n",
              "</table>\n",
              "</div>\n",
              "      <button class=\"colab-df-convert\" onclick=\"convertToInteractive('df-27b82e14-1744-4574-a214-4ffdcef7a705')\"\n",
              "              title=\"Convert this dataframe to an interactive table.\"\n",
              "              style=\"display:none;\">\n",
              "        \n",
              "  <svg xmlns=\"http://www.w3.org/2000/svg\" height=\"24px\"viewBox=\"0 0 24 24\"\n",
              "       width=\"24px\">\n",
              "    <path d=\"M0 0h24v24H0V0z\" fill=\"none\"/>\n",
              "    <path d=\"M18.56 5.44l.94 2.06.94-2.06 2.06-.94-2.06-.94-.94-2.06-.94 2.06-2.06.94zm-11 1L8.5 8.5l.94-2.06 2.06-.94-2.06-.94L8.5 2.5l-.94 2.06-2.06.94zm10 10l.94 2.06.94-2.06 2.06-.94-2.06-.94-.94-2.06-.94 2.06-2.06.94z\"/><path d=\"M17.41 7.96l-1.37-1.37c-.4-.4-.92-.59-1.43-.59-.52 0-1.04.2-1.43.59L10.3 9.45l-7.72 7.72c-.78.78-.78 2.05 0 2.83L4 21.41c.39.39.9.59 1.41.59.51 0 1.02-.2 1.41-.59l7.78-7.78 2.81-2.81c.8-.78.8-2.07 0-2.86zM5.41 20L4 18.59l7.72-7.72 1.47 1.35L5.41 20z\"/>\n",
              "  </svg>\n",
              "      </button>\n",
              "      \n",
              "  <style>\n",
              "    .colab-df-container {\n",
              "      display:flex;\n",
              "      flex-wrap:wrap;\n",
              "      gap: 12px;\n",
              "    }\n",
              "\n",
              "    .colab-df-convert {\n",
              "      background-color: #E8F0FE;\n",
              "      border: none;\n",
              "      border-radius: 50%;\n",
              "      cursor: pointer;\n",
              "      display: none;\n",
              "      fill: #1967D2;\n",
              "      height: 32px;\n",
              "      padding: 0 0 0 0;\n",
              "      width: 32px;\n",
              "    }\n",
              "\n",
              "    .colab-df-convert:hover {\n",
              "      background-color: #E2EBFA;\n",
              "      box-shadow: 0px 1px 2px rgba(60, 64, 67, 0.3), 0px 1px 3px 1px rgba(60, 64, 67, 0.15);\n",
              "      fill: #174EA6;\n",
              "    }\n",
              "\n",
              "    [theme=dark] .colab-df-convert {\n",
              "      background-color: #3B4455;\n",
              "      fill: #D2E3FC;\n",
              "    }\n",
              "\n",
              "    [theme=dark] .colab-df-convert:hover {\n",
              "      background-color: #434B5C;\n",
              "      box-shadow: 0px 1px 3px 1px rgba(0, 0, 0, 0.15);\n",
              "      filter: drop-shadow(0px 1px 2px rgba(0, 0, 0, 0.3));\n",
              "      fill: #FFFFFF;\n",
              "    }\n",
              "  </style>\n",
              "\n",
              "      <script>\n",
              "        const buttonEl =\n",
              "          document.querySelector('#df-27b82e14-1744-4574-a214-4ffdcef7a705 button.colab-df-convert');\n",
              "        buttonEl.style.display =\n",
              "          google.colab.kernel.accessAllowed ? 'block' : 'none';\n",
              "\n",
              "        async function convertToInteractive(key) {\n",
              "          const element = document.querySelector('#df-27b82e14-1744-4574-a214-4ffdcef7a705');\n",
              "          const dataTable =\n",
              "            await google.colab.kernel.invokeFunction('convertToInteractive',\n",
              "                                                     [key], {});\n",
              "          if (!dataTable) return;\n",
              "\n",
              "          const docLinkHtml = 'Like what you see? Visit the ' +\n",
              "            '<a target=\"_blank\" href=https://colab.research.google.com/notebooks/data_table.ipynb>data table notebook</a>'\n",
              "            + ' to learn more about interactive tables.';\n",
              "          element.innerHTML = '';\n",
              "          dataTable['output_type'] = 'display_data';\n",
              "          await google.colab.output.renderOutput(dataTable, element);\n",
              "          const docLink = document.createElement('div');\n",
              "          docLink.innerHTML = docLinkHtml;\n",
              "          element.appendChild(docLink);\n",
              "        }\n",
              "      </script>\n",
              "    </div>\n",
              "  </div>\n",
              "  "
            ]
          },
          "metadata": {},
          "execution_count": 116
        }
      ]
    },
    {
      "cell_type": "markdown",
      "source": [
        "##Word segmentation"
      ],
      "metadata": {
        "id": "KczIRUsOMYFe"
      }
    },
    {
      "cell_type": "code",
      "source": [
        "#Thực hiện Word Segmentation bằng toolkit VNCoreLP\n",
        "data['text'] = data['text'].apply(lambda x: \" \".join(word for word in model_vncorenlp.word_segment(x)))"
      ],
      "metadata": {
        "id": "YuKUxvzFOFeF"
      },
      "execution_count": null,
      "outputs": []
    },
    {
      "cell_type": "code",
      "source": [
        "data.reset_index(inplace = True)\n",
        "data"
      ],
      "metadata": {
        "colab": {
          "base_uri": "https://localhost:8080/",
          "height": 485
        },
        "id": "bmEdKZSWRbcE",
        "outputId": "77ae8d1b-efdd-4759-ecc3-2713652acca3"
      },
      "execution_count": null,
      "outputs": [
        {
          "output_type": "execute_result",
          "data": {
            "text/plain": [
              "       index     Id  Label                                            Comment  \\\n",
              "0          0      1      0                              Slayder, GAM cần anh.   \n",
              "1          1      2      0             Dạ mỗi khi Gam cần, em luôn sẵn sèng!!   \n",
              "2          2      3      0  sờ ty lè k chỉ nhảy qua tường, sờ ty lè nhảy p...   \n",
              "3          3      4      0                         Mê cái cách anh này nhảy E   \n",
              "4          4      5      0   Chúc mừng\\nGam đã có kỳ chuyển nhượng thành công   \n",
              "...      ...    ...    ...                                                ...   \n",
              "10686  10686  10687      2  Người ta bảo người hay nói đạo lí thường sống ...   \n",
              "10687  10687  10688      2                       Riêng tư sao đéo có hari má    \n",
              "10688  10688  10689      2                     Nói đạo lý thường sống như iồn   \n",
              "10689  10689  10690      2  Lũ ngu ngục tụi m bỏ tiền ủng hộ phim nó giờ n...   \n",
              "10690  10690  10691      2         Cr7 bảo dme chúng mày vào mà làm vào mà đá   \n",
              "\n",
              "                                                    text  \n",
              "0                                    slayder gam cần_anh  \n",
              "1                    dạ mỗi khi gam cần em luôn sẵn sèng  \n",
              "2      sờ ty lè không_chỉ nhảy qua tường sờ ty lè nhả...  \n",
              "3                            mê cái cách anh này nhảy em  \n",
              "4        chúc_mừng gam đã có kỳ chuyển_nhượng thành_công  \n",
              "...                                                  ...  \n",
              "10686  người ta bảo người hay nói đạo_lí thường sống ...  \n",
              "10687                        riêng_tư sao đéo có hari má  \n",
              "10688                     nói đạo_lý thường sống như iồn  \n",
              "10689  lũ ngu ngục tụi mày bỏ tiền ủng_hộ phim nó giờ...  \n",
              "10690         cr7 bảo dme chúng_mày vào mà làm vào mà đá  \n",
              "\n",
              "[10691 rows x 5 columns]"
            ],
            "text/html": [
              "\n",
              "  <div id=\"df-1c603f61-e2b3-44c9-ba6f-988959196b7a\">\n",
              "    <div class=\"colab-df-container\">\n",
              "      <div>\n",
              "<style scoped>\n",
              "    .dataframe tbody tr th:only-of-type {\n",
              "        vertical-align: middle;\n",
              "    }\n",
              "\n",
              "    .dataframe tbody tr th {\n",
              "        vertical-align: top;\n",
              "    }\n",
              "\n",
              "    .dataframe thead th {\n",
              "        text-align: right;\n",
              "    }\n",
              "</style>\n",
              "<table border=\"1\" class=\"dataframe\">\n",
              "  <thead>\n",
              "    <tr style=\"text-align: right;\">\n",
              "      <th></th>\n",
              "      <th>index</th>\n",
              "      <th>Id</th>\n",
              "      <th>Label</th>\n",
              "      <th>Comment</th>\n",
              "      <th>text</th>\n",
              "    </tr>\n",
              "  </thead>\n",
              "  <tbody>\n",
              "    <tr>\n",
              "      <th>0</th>\n",
              "      <td>0</td>\n",
              "      <td>1</td>\n",
              "      <td>0</td>\n",
              "      <td>Slayder, GAM cần anh.</td>\n",
              "      <td>slayder gam cần_anh</td>\n",
              "    </tr>\n",
              "    <tr>\n",
              "      <th>1</th>\n",
              "      <td>1</td>\n",
              "      <td>2</td>\n",
              "      <td>0</td>\n",
              "      <td>Dạ mỗi khi Gam cần, em luôn sẵn sèng!!</td>\n",
              "      <td>dạ mỗi khi gam cần em luôn sẵn sèng</td>\n",
              "    </tr>\n",
              "    <tr>\n",
              "      <th>2</th>\n",
              "      <td>2</td>\n",
              "      <td>3</td>\n",
              "      <td>0</td>\n",
              "      <td>sờ ty lè k chỉ nhảy qua tường, sờ ty lè nhảy p...</td>\n",
              "      <td>sờ ty lè không_chỉ nhảy qua tường sờ ty lè nhả...</td>\n",
              "    </tr>\n",
              "    <tr>\n",
              "      <th>3</th>\n",
              "      <td>3</td>\n",
              "      <td>4</td>\n",
              "      <td>0</td>\n",
              "      <td>Mê cái cách anh này nhảy E</td>\n",
              "      <td>mê cái cách anh này nhảy em</td>\n",
              "    </tr>\n",
              "    <tr>\n",
              "      <th>4</th>\n",
              "      <td>4</td>\n",
              "      <td>5</td>\n",
              "      <td>0</td>\n",
              "      <td>Chúc mừng\\nGam đã có kỳ chuyển nhượng thành công</td>\n",
              "      <td>chúc_mừng gam đã có kỳ chuyển_nhượng thành_công</td>\n",
              "    </tr>\n",
              "    <tr>\n",
              "      <th>...</th>\n",
              "      <td>...</td>\n",
              "      <td>...</td>\n",
              "      <td>...</td>\n",
              "      <td>...</td>\n",
              "      <td>...</td>\n",
              "    </tr>\n",
              "    <tr>\n",
              "      <th>10686</th>\n",
              "      <td>10686</td>\n",
              "      <td>10687</td>\n",
              "      <td>2</td>\n",
              "      <td>Người ta bảo người hay nói đạo lí thường sống ...</td>\n",
              "      <td>người ta bảo người hay nói đạo_lí thường sống ...</td>\n",
              "    </tr>\n",
              "    <tr>\n",
              "      <th>10687</th>\n",
              "      <td>10687</td>\n",
              "      <td>10688</td>\n",
              "      <td>2</td>\n",
              "      <td>Riêng tư sao đéo có hari má</td>\n",
              "      <td>riêng_tư sao đéo có hari má</td>\n",
              "    </tr>\n",
              "    <tr>\n",
              "      <th>10688</th>\n",
              "      <td>10688</td>\n",
              "      <td>10689</td>\n",
              "      <td>2</td>\n",
              "      <td>Nói đạo lý thường sống như iồn</td>\n",
              "      <td>nói đạo_lý thường sống như iồn</td>\n",
              "    </tr>\n",
              "    <tr>\n",
              "      <th>10689</th>\n",
              "      <td>10689</td>\n",
              "      <td>10690</td>\n",
              "      <td>2</td>\n",
              "      <td>Lũ ngu ngục tụi m bỏ tiền ủng hộ phim nó giờ n...</td>\n",
              "      <td>lũ ngu ngục tụi mày bỏ tiền ủng_hộ phim nó giờ...</td>\n",
              "    </tr>\n",
              "    <tr>\n",
              "      <th>10690</th>\n",
              "      <td>10690</td>\n",
              "      <td>10691</td>\n",
              "      <td>2</td>\n",
              "      <td>Cr7 bảo dme chúng mày vào mà làm vào mà đá</td>\n",
              "      <td>cr7 bảo dme chúng_mày vào mà làm vào mà đá</td>\n",
              "    </tr>\n",
              "  </tbody>\n",
              "</table>\n",
              "<p>10691 rows × 5 columns</p>\n",
              "</div>\n",
              "      <button class=\"colab-df-convert\" onclick=\"convertToInteractive('df-1c603f61-e2b3-44c9-ba6f-988959196b7a')\"\n",
              "              title=\"Convert this dataframe to an interactive table.\"\n",
              "              style=\"display:none;\">\n",
              "        \n",
              "  <svg xmlns=\"http://www.w3.org/2000/svg\" height=\"24px\"viewBox=\"0 0 24 24\"\n",
              "       width=\"24px\">\n",
              "    <path d=\"M0 0h24v24H0V0z\" fill=\"none\"/>\n",
              "    <path d=\"M18.56 5.44l.94 2.06.94-2.06 2.06-.94-2.06-.94-.94-2.06-.94 2.06-2.06.94zm-11 1L8.5 8.5l.94-2.06 2.06-.94-2.06-.94L8.5 2.5l-.94 2.06-2.06.94zm10 10l.94 2.06.94-2.06 2.06-.94-2.06-.94-.94-2.06-.94 2.06-2.06.94z\"/><path d=\"M17.41 7.96l-1.37-1.37c-.4-.4-.92-.59-1.43-.59-.52 0-1.04.2-1.43.59L10.3 9.45l-7.72 7.72c-.78.78-.78 2.05 0 2.83L4 21.41c.39.39.9.59 1.41.59.51 0 1.02-.2 1.41-.59l7.78-7.78 2.81-2.81c.8-.78.8-2.07 0-2.86zM5.41 20L4 18.59l7.72-7.72 1.47 1.35L5.41 20z\"/>\n",
              "  </svg>\n",
              "      </button>\n",
              "      \n",
              "  <style>\n",
              "    .colab-df-container {\n",
              "      display:flex;\n",
              "      flex-wrap:wrap;\n",
              "      gap: 12px;\n",
              "    }\n",
              "\n",
              "    .colab-df-convert {\n",
              "      background-color: #E8F0FE;\n",
              "      border: none;\n",
              "      border-radius: 50%;\n",
              "      cursor: pointer;\n",
              "      display: none;\n",
              "      fill: #1967D2;\n",
              "      height: 32px;\n",
              "      padding: 0 0 0 0;\n",
              "      width: 32px;\n",
              "    }\n",
              "\n",
              "    .colab-df-convert:hover {\n",
              "      background-color: #E2EBFA;\n",
              "      box-shadow: 0px 1px 2px rgba(60, 64, 67, 0.3), 0px 1px 3px 1px rgba(60, 64, 67, 0.15);\n",
              "      fill: #174EA6;\n",
              "    }\n",
              "\n",
              "    [theme=dark] .colab-df-convert {\n",
              "      background-color: #3B4455;\n",
              "      fill: #D2E3FC;\n",
              "    }\n",
              "\n",
              "    [theme=dark] .colab-df-convert:hover {\n",
              "      background-color: #434B5C;\n",
              "      box-shadow: 0px 1px 3px 1px rgba(0, 0, 0, 0.15);\n",
              "      filter: drop-shadow(0px 1px 2px rgba(0, 0, 0, 0.3));\n",
              "      fill: #FFFFFF;\n",
              "    }\n",
              "  </style>\n",
              "\n",
              "      <script>\n",
              "        const buttonEl =\n",
              "          document.querySelector('#df-1c603f61-e2b3-44c9-ba6f-988959196b7a button.colab-df-convert');\n",
              "        buttonEl.style.display =\n",
              "          google.colab.kernel.accessAllowed ? 'block' : 'none';\n",
              "\n",
              "        async function convertToInteractive(key) {\n",
              "          const element = document.querySelector('#df-1c603f61-e2b3-44c9-ba6f-988959196b7a');\n",
              "          const dataTable =\n",
              "            await google.colab.kernel.invokeFunction('convertToInteractive',\n",
              "                                                     [key], {});\n",
              "          if (!dataTable) return;\n",
              "\n",
              "          const docLinkHtml = 'Like what you see? Visit the ' +\n",
              "            '<a target=\"_blank\" href=https://colab.research.google.com/notebooks/data_table.ipynb>data table notebook</a>'\n",
              "            + ' to learn more about interactive tables.';\n",
              "          element.innerHTML = '';\n",
              "          dataTable['output_type'] = 'display_data';\n",
              "          await google.colab.output.renderOutput(dataTable, element);\n",
              "          const docLink = document.createElement('div');\n",
              "          docLink.innerHTML = docLinkHtml;\n",
              "          element.appendChild(docLink);\n",
              "        }\n",
              "      </script>\n",
              "    </div>\n",
              "  </div>\n",
              "  "
            ]
          },
          "metadata": {},
          "execution_count": 118
        }
      ]
    },
    {
      "cell_type": "markdown",
      "source": [
        "##Bỏ Stopword"
      ],
      "metadata": {
        "id": "LvxyNGZ2Mf7w"
      }
    },
    {
      "cell_type": "code",
      "source": [
        "data_train = []\n",
        "\n",
        "#Loại bỏ các stopword\n",
        "link_vn_stopword = '/content/drive/MyDrive/CS114/Final_Project/vietnamese-stopwords.txt'\n",
        "stop_words = set(line.strip() for line in open(link_vn_stopword))\n",
        "for sentence in data['text']:\n",
        "    sen_new = \"\"\n",
        "    sen_temp = sentence.split()\n",
        "    #print(sen_temp)\n",
        "    for word in sen_temp:\n",
        "        #print(word,'.')\n",
        "        if (word not in stop_words):\n",
        "            sen_new += word + \" \"\n",
        "        #print()\n",
        "    data_train.append(sen_new)\n",
        "\n",
        "print (\"Headlines after Preprocessing\")\n",
        "for i in range (0,20):\n",
        "  print (f\"{i+1}/\",data_train[i])"
      ],
      "metadata": {
        "colab": {
          "base_uri": "https://localhost:8080/"
        },
        "id": "y9BfRCacR42N",
        "outputId": "576c5730-d009-4f4d-bef0-9fdaa83f7f3b"
      },
      "execution_count": null,
      "outputs": [
        {
          "output_type": "stream",
          "name": "stdout",
          "text": [
            "Headlines after Preprocessing\n",
            "1/ slayder gam cần_anh \n",
            "2/ gam sẵn sèng \n",
            "3/ sờ ty lè không_chỉ nhảy tường sờ ty lè nhảy phát team \n",
            "4/ mê nhảy \n",
            "5/ chúc_mừng gam kỳ chuyển_nhượng thành_công \n",
            "6/ mê nhảy \n",
            "7/ chuẩn thoát pressing luônnn \n",
            "8/ ok chúc sơn thành công đường tiếp giờ thì hóng ad mới \n",
            "9/ gam đầu_tư đi cửa sân_bay \n",
            "10/ trận best gánh \n",
            "11/ thằng hankay out hài vãi lồn đôn huấn_luyện_viên tạm vị_trí analyst gam tuyển huấn_luyện_viên chả ảnh_hưởng \n",
            "12/ msi xong thank you vị_trí sty1e \n",
            "13/ đem shogun đem taki 2 đánh kết_hợp \n",
            "14/ thầy sty1e lck hướng_dẫn thằng peyz thằng guma đánh zeri 2 thằng đánh ngu \n",
            "15/ dũng phạm se gam giúp thoát pressing \n",
            "16/ nghi_thức hiến tế bắt_đầu \n",
            "17/ ôi cảm_động hoá_thân thành fan gam khứa hơi anti gam một_chút \n",
            "18/ kick ác nhường chỗ tướng_quân \n",
            "19/ tao đợi thank you kati mãi \n",
            "20/ mong sty1e \n"
          ]
        }
      ]
    },
    {
      "cell_type": "code",
      "source": [
        "data['Comment'] = data_train\n",
        "data"
      ],
      "metadata": {
        "colab": {
          "base_uri": "https://localhost:8080/",
          "height": 922
        },
        "id": "eRzvN-mw4OMH",
        "outputId": "e240b294-3dfa-4bfc-bb40-9350213e6859"
      },
      "execution_count": null,
      "outputs": [
        {
          "output_type": "execute_result",
          "data": {
            "text/plain": [
              "       index     Id  Label                                            Comment  \\\n",
              "0          0      1      0                               slayder gam cần_anh    \n",
              "1          1      2      0                                      gam sẵn sèng    \n",
              "2          2      3      0  sờ ty lè không_chỉ nhảy tường sờ ty lè nhảy ph...   \n",
              "3          3      4      0                                           mê nhảy    \n",
              "4          4      5      0         chúc_mừng gam kỳ chuyển_nhượng thành_công    \n",
              "...      ...    ...    ...                                                ...   \n",
              "10686  10686  10687      2                            ta bảo đạo_lí sống lol    \n",
              "10687  10687  10688      2                              riêng_tư đéo hari má    \n",
              "10688  10688  10689      2                                   đạo_lý sống iồn    \n",
              "10689  10689  10690      2  lũ ngu ngục tụi mày tiền ủng_hộ phim đối_xử tụ...   \n",
              "10690  10690  10691      2                          cr7 bảo dme chúng_mày đá    \n",
              "\n",
              "                                                    text  \n",
              "0                                    slayder gam cần_anh  \n",
              "1                    dạ mỗi khi gam cần em luôn sẵn sèng  \n",
              "2      sờ ty lè không_chỉ nhảy qua tường sờ ty lè nhả...  \n",
              "3                            mê cái cách anh này nhảy em  \n",
              "4        chúc_mừng gam đã có kỳ chuyển_nhượng thành_công  \n",
              "...                                                  ...  \n",
              "10686  người ta bảo người hay nói đạo_lí thường sống ...  \n",
              "10687                        riêng_tư sao đéo có hari má  \n",
              "10688                     nói đạo_lý thường sống như iồn  \n",
              "10689  lũ ngu ngục tụi mày bỏ tiền ủng_hộ phim nó giờ...  \n",
              "10690         cr7 bảo dme chúng_mày vào mà làm vào mà đá  \n",
              "\n",
              "[10691 rows x 5 columns]"
            ],
            "text/html": [
              "\n",
              "  <div id=\"df-08fb058c-7bf6-4c3b-9ed9-0cccc15ce927\">\n",
              "    <div class=\"colab-df-container\">\n",
              "      <div>\n",
              "<style scoped>\n",
              "    .dataframe tbody tr th:only-of-type {\n",
              "        vertical-align: middle;\n",
              "    }\n",
              "\n",
              "    .dataframe tbody tr th {\n",
              "        vertical-align: top;\n",
              "    }\n",
              "\n",
              "    .dataframe thead th {\n",
              "        text-align: right;\n",
              "    }\n",
              "</style>\n",
              "<table border=\"1\" class=\"dataframe\">\n",
              "  <thead>\n",
              "    <tr style=\"text-align: right;\">\n",
              "      <th></th>\n",
              "      <th>index</th>\n",
              "      <th>Id</th>\n",
              "      <th>Label</th>\n",
              "      <th>Comment</th>\n",
              "      <th>text</th>\n",
              "    </tr>\n",
              "  </thead>\n",
              "  <tbody>\n",
              "    <tr>\n",
              "      <th>0</th>\n",
              "      <td>0</td>\n",
              "      <td>1</td>\n",
              "      <td>0</td>\n",
              "      <td>slayder gam cần_anh</td>\n",
              "      <td>slayder gam cần_anh</td>\n",
              "    </tr>\n",
              "    <tr>\n",
              "      <th>1</th>\n",
              "      <td>1</td>\n",
              "      <td>2</td>\n",
              "      <td>0</td>\n",
              "      <td>gam sẵn sèng</td>\n",
              "      <td>dạ mỗi khi gam cần em luôn sẵn sèng</td>\n",
              "    </tr>\n",
              "    <tr>\n",
              "      <th>2</th>\n",
              "      <td>2</td>\n",
              "      <td>3</td>\n",
              "      <td>0</td>\n",
              "      <td>sờ ty lè không_chỉ nhảy tường sờ ty lè nhảy ph...</td>\n",
              "      <td>sờ ty lè không_chỉ nhảy qua tường sờ ty lè nhả...</td>\n",
              "    </tr>\n",
              "    <tr>\n",
              "      <th>3</th>\n",
              "      <td>3</td>\n",
              "      <td>4</td>\n",
              "      <td>0</td>\n",
              "      <td>mê nhảy</td>\n",
              "      <td>mê cái cách anh này nhảy em</td>\n",
              "    </tr>\n",
              "    <tr>\n",
              "      <th>4</th>\n",
              "      <td>4</td>\n",
              "      <td>5</td>\n",
              "      <td>0</td>\n",
              "      <td>chúc_mừng gam kỳ chuyển_nhượng thành_công</td>\n",
              "      <td>chúc_mừng gam đã có kỳ chuyển_nhượng thành_công</td>\n",
              "    </tr>\n",
              "    <tr>\n",
              "      <th>...</th>\n",
              "      <td>...</td>\n",
              "      <td>...</td>\n",
              "      <td>...</td>\n",
              "      <td>...</td>\n",
              "      <td>...</td>\n",
              "    </tr>\n",
              "    <tr>\n",
              "      <th>10686</th>\n",
              "      <td>10686</td>\n",
              "      <td>10687</td>\n",
              "      <td>2</td>\n",
              "      <td>ta bảo đạo_lí sống lol</td>\n",
              "      <td>người ta bảo người hay nói đạo_lí thường sống ...</td>\n",
              "    </tr>\n",
              "    <tr>\n",
              "      <th>10687</th>\n",
              "      <td>10687</td>\n",
              "      <td>10688</td>\n",
              "      <td>2</td>\n",
              "      <td>riêng_tư đéo hari má</td>\n",
              "      <td>riêng_tư sao đéo có hari má</td>\n",
              "    </tr>\n",
              "    <tr>\n",
              "      <th>10688</th>\n",
              "      <td>10688</td>\n",
              "      <td>10689</td>\n",
              "      <td>2</td>\n",
              "      <td>đạo_lý sống iồn</td>\n",
              "      <td>nói đạo_lý thường sống như iồn</td>\n",
              "    </tr>\n",
              "    <tr>\n",
              "      <th>10689</th>\n",
              "      <td>10689</td>\n",
              "      <td>10690</td>\n",
              "      <td>2</td>\n",
              "      <td>lũ ngu ngục tụi mày tiền ủng_hộ phim đối_xử tụ...</td>\n",
              "      <td>lũ ngu ngục tụi mày bỏ tiền ủng_hộ phim nó giờ...</td>\n",
              "    </tr>\n",
              "    <tr>\n",
              "      <th>10690</th>\n",
              "      <td>10690</td>\n",
              "      <td>10691</td>\n",
              "      <td>2</td>\n",
              "      <td>cr7 bảo dme chúng_mày đá</td>\n",
              "      <td>cr7 bảo dme chúng_mày vào mà làm vào mà đá</td>\n",
              "    </tr>\n",
              "  </tbody>\n",
              "</table>\n",
              "<p>10691 rows × 5 columns</p>\n",
              "</div>\n",
              "      <button class=\"colab-df-convert\" onclick=\"convertToInteractive('df-08fb058c-7bf6-4c3b-9ed9-0cccc15ce927')\"\n",
              "              title=\"Convert this dataframe to an interactive table.\"\n",
              "              style=\"display:none;\">\n",
              "        \n",
              "  <svg xmlns=\"http://www.w3.org/2000/svg\" height=\"24px\"viewBox=\"0 0 24 24\"\n",
              "       width=\"24px\">\n",
              "    <path d=\"M0 0h24v24H0V0z\" fill=\"none\"/>\n",
              "    <path d=\"M18.56 5.44l.94 2.06.94-2.06 2.06-.94-2.06-.94-.94-2.06-.94 2.06-2.06.94zm-11 1L8.5 8.5l.94-2.06 2.06-.94-2.06-.94L8.5 2.5l-.94 2.06-2.06.94zm10 10l.94 2.06.94-2.06 2.06-.94-2.06-.94-.94-2.06-.94 2.06-2.06.94z\"/><path d=\"M17.41 7.96l-1.37-1.37c-.4-.4-.92-.59-1.43-.59-.52 0-1.04.2-1.43.59L10.3 9.45l-7.72 7.72c-.78.78-.78 2.05 0 2.83L4 21.41c.39.39.9.59 1.41.59.51 0 1.02-.2 1.41-.59l7.78-7.78 2.81-2.81c.8-.78.8-2.07 0-2.86zM5.41 20L4 18.59l7.72-7.72 1.47 1.35L5.41 20z\"/>\n",
              "  </svg>\n",
              "      </button>\n",
              "      \n",
              "  <style>\n",
              "    .colab-df-container {\n",
              "      display:flex;\n",
              "      flex-wrap:wrap;\n",
              "      gap: 12px;\n",
              "    }\n",
              "\n",
              "    .colab-df-convert {\n",
              "      background-color: #E8F0FE;\n",
              "      border: none;\n",
              "      border-radius: 50%;\n",
              "      cursor: pointer;\n",
              "      display: none;\n",
              "      fill: #1967D2;\n",
              "      height: 32px;\n",
              "      padding: 0 0 0 0;\n",
              "      width: 32px;\n",
              "    }\n",
              "\n",
              "    .colab-df-convert:hover {\n",
              "      background-color: #E2EBFA;\n",
              "      box-shadow: 0px 1px 2px rgba(60, 64, 67, 0.3), 0px 1px 3px 1px rgba(60, 64, 67, 0.15);\n",
              "      fill: #174EA6;\n",
              "    }\n",
              "\n",
              "    [theme=dark] .colab-df-convert {\n",
              "      background-color: #3B4455;\n",
              "      fill: #D2E3FC;\n",
              "    }\n",
              "\n",
              "    [theme=dark] .colab-df-convert:hover {\n",
              "      background-color: #434B5C;\n",
              "      box-shadow: 0px 1px 3px 1px rgba(0, 0, 0, 0.15);\n",
              "      filter: drop-shadow(0px 1px 2px rgba(0, 0, 0, 0.3));\n",
              "      fill: #FFFFFF;\n",
              "    }\n",
              "  </style>\n",
              "\n",
              "      <script>\n",
              "        const buttonEl =\n",
              "          document.querySelector('#df-08fb058c-7bf6-4c3b-9ed9-0cccc15ce927 button.colab-df-convert');\n",
              "        buttonEl.style.display =\n",
              "          google.colab.kernel.accessAllowed ? 'block' : 'none';\n",
              "\n",
              "        async function convertToInteractive(key) {\n",
              "          const element = document.querySelector('#df-08fb058c-7bf6-4c3b-9ed9-0cccc15ce927');\n",
              "          const dataTable =\n",
              "            await google.colab.kernel.invokeFunction('convertToInteractive',\n",
              "                                                     [key], {});\n",
              "          if (!dataTable) return;\n",
              "\n",
              "          const docLinkHtml = 'Like what you see? Visit the ' +\n",
              "            '<a target=\"_blank\" href=https://colab.research.google.com/notebooks/data_table.ipynb>data table notebook</a>'\n",
              "            + ' to learn more about interactive tables.';\n",
              "          element.innerHTML = '';\n",
              "          dataTable['output_type'] = 'display_data';\n",
              "          await google.colab.output.renderOutput(dataTable, element);\n",
              "          const docLink = document.createElement('div');\n",
              "          docLink.innerHTML = docLinkHtml;\n",
              "          element.appendChild(docLink);\n",
              "        }\n",
              "      </script>\n",
              "    </div>\n",
              "  </div>\n",
              "  "
            ]
          },
          "metadata": {},
          "execution_count": 127
        },
        {
          "output_type": "stream",
          "name": "stdout",
          "text": [
            "Error: Runtime no longer has a reference to this dataframe, please re-run this cell and try again.\n"
          ]
        }
      ]
    },
    {
      "cell_type": "markdown",
      "source": [
        "# Data Visualization"
      ],
      "metadata": {
        "id": "DcBITL8BAUcC"
      }
    },
    {
      "cell_type": "markdown",
      "source": [
        "### 1. Phân bố nhãn"
      ],
      "metadata": {
        "id": "ELJ722dcuJVU"
      }
    },
    {
      "cell_type": "code",
      "source": [
        "label_name = ['0','1','2']\n",
        "plt.style.use('dark_background')\n",
        "ax = sns.countplot(x =\"Label\", data = data)\n",
        "plt.xticks (ticks = data['Label'].unique(), labels=label_name)\n",
        "ax.bar_label (ax.containers[0])\n",
        "plt.title (\"Numbers of Comment in each label\")\n",
        "plt.show ()"
      ],
      "metadata": {
        "colab": {
          "base_uri": "https://localhost:8080/",
          "height": 480
        },
        "id": "ACuVfKcVAX2g",
        "outputId": "f399464a-a41b-4a9c-d2dc-60e6e35d7dfe"
      },
      "execution_count": null,
      "outputs": [
        {
          "output_type": "display_data",
          "data": {
            "text/plain": [
              "<Figure size 640x480 with 1 Axes>"
            ],
            "image/png": "[encoded data removed]"
          },
          "metadata": {}
        }
      ]
    },
    {
      "cell_type": "code",
      "source": [
        "#df = data[data['Label']==0]['Comment'].apply(len)\n",
        "print (\"Thống kê về độ dài của comment\")\n",
        "print(\"Độ dài trung bình của comment:\",data['Comment'].apply(len).mean())\n",
        "\n",
        "print (\"Phân bố giá trị của comment: Min =\",data['Comment'].apply(len).min(),\", Max =\",data['Comment'].apply(len).max())\n",
        "\n",
        "print('-' * 55)\n",
        "print (\"Label 0\")\n",
        "print (\"Miền giá trị độ dài: Min =\",data[data['Label']==0]['Comment'].apply(len).min(),\", Max =\",data[data['Label']==0]['Comment'].apply(len).max())\n",
        "print (\"Độ dài trung bình của comment:\",data[data['Label']==0]['Comment'].apply(len).mean())\n",
        "\n",
        "print('-' * 55)\n",
        "print (\"Label 1\")\n",
        "print (\"Miền giá trị độ dài: Min =\",data[data['Label']==1]['Comment'].apply(len).min(),\", Max =\",data[data['Label']==0]['Comment'].apply(len).max())\n",
        "print (\"Độ dài trung bình của comment:\",data[data['Label']==1]['Comment'].apply(len).mean())\n",
        "\n",
        "print('-' * 55)\n",
        "print (\"Label 2\")\n",
        "print (\"Miền giá trị độ dài: Min =\",data[data['Label']==2]['Comment'].apply(len).min(),\", Max =\",data[data['Label']==0]['Comment'].apply(len).max())\n",
        "print (\"Độ dài trung bình của comment:\",data[data['Label']==2]['Comment'].apply(len).mean())"
      ],
      "metadata": {
        "colab": {
          "base_uri": "https://localhost:8080/"
        },
        "id": "_j7eVgbg9FNl",
        "outputId": "1705de88-2045-411e-9144-0e9de57e6ec1"
      },
      "execution_count": null,
      "outputs": [
        {
          "output_type": "stream",
          "name": "stdout",
          "text": [
            "Thống kê về độ dài của comment\n",
            "Độ dài trung bình của comment: 34.82322471275193\n",
            "Phân bố giá trị của comment: Min = 2 , Max = 238\n",
            "-------------------------------------------------------\n",
            "Label 0\n",
            "Miền giá trị độ dài: Min = 2 , Max = 213\n",
            "Độ dài trung bình của comment: 32.1265756302521\n",
            "-------------------------------------------------------\n",
            "Label 1\n",
            "Miền giá trị độ dài: Min = 3 , Max = 213\n",
            "Độ dài trung bình của comment: 37.22996130458817\n",
            "-------------------------------------------------------\n",
            "Label 2\n",
            "Miền giá trị độ dài: Min = 3 , Max = 213\n",
            "Độ dài trung bình của comment: 48.38893545683152\n"
          ]
        }
      ]
    },
    {
      "cell_type": "code",
      "source": [
        "data = data[data['Comment'].apply(len) > 0]\n",
        "data.reset_index(inplace = True)\n",
        "data"
      ],
      "metadata": {
        "colab": {
          "base_uri": "https://localhost:8080/",
          "height": 554
        },
        "id": "dF1LHunN4tkn",
        "outputId": "8784d547-6215-462f-eda6-3a0205123418"
      },
      "execution_count": null,
      "outputs": [
        {
          "output_type": "execute_result",
          "data": {
            "text/plain": [
              "       level_0  index     Id  Label  \\\n",
              "0            0      0      1      0   \n",
              "1            1      1      2      0   \n",
              "2            2      2      3      0   \n",
              "3            3      3      4      0   \n",
              "4            4      4      5      0   \n",
              "...        ...    ...    ...    ...   \n",
              "10613    10686  10686  10687      2   \n",
              "10614    10687  10687  10688      2   \n",
              "10615    10688  10688  10689      2   \n",
              "10616    10689  10689  10690      2   \n",
              "10617    10690  10690  10691      2   \n",
              "\n",
              "                                                 Comment  \\\n",
              "0                                   slayder gam cần_anh    \n",
              "1                                          gam sẵn sèng    \n",
              "2      sờ ty lè không_chỉ nhảy tường sờ ty lè nhảy ph...   \n",
              "3                                               mê nhảy    \n",
              "4             chúc_mừng gam kỳ chuyển_nhượng thành_công    \n",
              "...                                                  ...   \n",
              "10613                            ta bảo đạo_lí sống lol    \n",
              "10614                              riêng_tư đéo hari má    \n",
              "10615                                   đạo_lý sống iồn    \n",
              "10616  lũ ngu ngục tụi mày tiền ủng_hộ phim đối_xử tụ...   \n",
              "10617                          cr7 bảo dme chúng_mày đá    \n",
              "\n",
              "                                                    text  \n",
              "0                                    slayder gam cần_anh  \n",
              "1                    dạ mỗi khi gam cần em luôn sẵn sèng  \n",
              "2      sờ ty lè không_chỉ nhảy qua tường sờ ty lè nhả...  \n",
              "3                            mê cái cách anh này nhảy em  \n",
              "4        chúc_mừng gam đã có kỳ chuyển_nhượng thành_công  \n",
              "...                                                  ...  \n",
              "10613  người ta bảo người hay nói đạo_lí thường sống ...  \n",
              "10614                        riêng_tư sao đéo có hari má  \n",
              "10615                     nói đạo_lý thường sống như iồn  \n",
              "10616  lũ ngu ngục tụi mày bỏ tiền ủng_hộ phim nó giờ...  \n",
              "10617         cr7 bảo dme chúng_mày vào mà làm vào mà đá  \n",
              "\n",
              "[10618 rows x 6 columns]"
            ],
            "text/html": [
              "\n",
              "  <div id=\"df-2e178cf5-d1db-417b-b9db-d86a82d96567\">\n",
              "    <div class=\"colab-df-container\">\n",
              "      <div>\n",
              "<style scoped>\n",
              "    .dataframe tbody tr th:only-of-type {\n",
              "        vertical-align: middle;\n",
              "    }\n",
              "\n",
              "    .dataframe tbody tr th {\n",
              "        vertical-align: top;\n",
              "    }\n",
              "\n",
              "    .dataframe thead th {\n",
              "        text-align: right;\n",
              "    }\n",
              "</style>\n",
              "<table border=\"1\" class=\"dataframe\">\n",
              "  <thead>\n",
              "    <tr style=\"text-align: right;\">\n",
              "      <th></th>\n",
              "      <th>level_0</th>\n",
              "      <th>index</th>\n",
              "      <th>Id</th>\n",
              "      <th>Label</th>\n",
              "      <th>Comment</th>\n",
              "      <th>text</th>\n",
              "    </tr>\n",
              "  </thead>\n",
              "  <tbody>\n",
              "    <tr>\n",
              "      <th>0</th>\n",
              "      <td>0</td>\n",
              "      <td>0</td>\n",
              "      <td>1</td>\n",
              "      <td>0</td>\n",
              "      <td>slayder gam cần_anh</td>\n",
              "      <td>slayder gam cần_anh</td>\n",
              "    </tr>\n",
              "    <tr>\n",
              "      <th>1</th>\n",
              "      <td>1</td>\n",
              "      <td>1</td>\n",
              "      <td>2</td>\n",
              "      <td>0</td>\n",
              "      <td>gam sẵn sèng</td>\n",
              "      <td>dạ mỗi khi gam cần em luôn sẵn sèng</td>\n",
              "    </tr>\n",
              "    <tr>\n",
              "      <th>2</th>\n",
              "      <td>2</td>\n",
              "      <td>2</td>\n",
              "      <td>3</td>\n",
              "      <td>0</td>\n",
              "      <td>sờ ty lè không_chỉ nhảy tường sờ ty lè nhảy ph...</td>\n",
              "      <td>sờ ty lè không_chỉ nhảy qua tường sờ ty lè nhả...</td>\n",
              "    </tr>\n",
              "    <tr>\n",
              "      <th>3</th>\n",
              "      <td>3</td>\n",
              "      <td>3</td>\n",
              "      <td>4</td>\n",
              "      <td>0</td>\n",
              "      <td>mê nhảy</td>\n",
              "      <td>mê cái cách anh này nhảy em</td>\n",
              "    </tr>\n",
              "    <tr>\n",
              "      <th>4</th>\n",
              "      <td>4</td>\n",
              "      <td>4</td>\n",
              "      <td>5</td>\n",
              "      <td>0</td>\n",
              "      <td>chúc_mừng gam kỳ chuyển_nhượng thành_công</td>\n",
              "      <td>chúc_mừng gam đã có kỳ chuyển_nhượng thành_công</td>\n",
              "    </tr>\n",
              "    <tr>\n",
              "      <th>...</th>\n",
              "      <td>...</td>\n",
              "      <td>...</td>\n",
              "      <td>...</td>\n",
              "      <td>...</td>\n",
              "      <td>...</td>\n",
              "      <td>...</td>\n",
              "    </tr>\n",
              "    <tr>\n",
              "      <th>10613</th>\n",
              "      <td>10686</td>\n",
              "      <td>10686</td>\n",
              "      <td>10687</td>\n",
              "      <td>2</td>\n",
              "      <td>ta bảo đạo_lí sống lol</td>\n",
              "      <td>người ta bảo người hay nói đạo_lí thường sống ...</td>\n",
              "    </tr>\n",
              "    <tr>\n",
              "      <th>10614</th>\n",
              "      <td>10687</td>\n",
              "      <td>10687</td>\n",
              "      <td>10688</td>\n",
              "      <td>2</td>\n",
              "      <td>riêng_tư đéo hari má</td>\n",
              "      <td>riêng_tư sao đéo có hari má</td>\n",
              "    </tr>\n",
              "    <tr>\n",
              "      <th>10615</th>\n",
              "      <td>10688</td>\n",
              "      <td>10688</td>\n",
              "      <td>10689</td>\n",
              "      <td>2</td>\n",
              "      <td>đạo_lý sống iồn</td>\n",
              "      <td>nói đạo_lý thường sống như iồn</td>\n",
              "    </tr>\n",
              "    <tr>\n",
              "      <th>10616</th>\n",
              "      <td>10689</td>\n",
              "      <td>10689</td>\n",
              "      <td>10690</td>\n",
              "      <td>2</td>\n",
              "      <td>lũ ngu ngục tụi mày tiền ủng_hộ phim đối_xử tụ...</td>\n",
              "      <td>lũ ngu ngục tụi mày bỏ tiền ủng_hộ phim nó giờ...</td>\n",
              "    </tr>\n",
              "    <tr>\n",
              "      <th>10617</th>\n",
              "      <td>10690</td>\n",
              "      <td>10690</td>\n",
              "      <td>10691</td>\n",
              "      <td>2</td>\n",
              "      <td>cr7 bảo dme chúng_mày đá</td>\n",
              "      <td>cr7 bảo dme chúng_mày vào mà làm vào mà đá</td>\n",
              "    </tr>\n",
              "  </tbody>\n",
              "</table>\n",
              "<p>10618 rows × 6 columns</p>\n",
              "</div>\n",
              "      <button class=\"colab-df-convert\" onclick=\"convertToInteractive('df-2e178cf5-d1db-417b-b9db-d86a82d96567')\"\n",
              "              title=\"Convert this dataframe to an interactive table.\"\n",
              "              style=\"display:none;\">\n",
              "        \n",
              "  <svg xmlns=\"http://www.w3.org/2000/svg\" height=\"24px\"viewBox=\"0 0 24 24\"\n",
              "       width=\"24px\">\n",
              "    <path d=\"M0 0h24v24H0V0z\" fill=\"none\"/>\n",
              "    <path d=\"M18.56 5.44l.94 2.06.94-2.06 2.06-.94-2.06-.94-.94-2.06-.94 2.06-2.06.94zm-11 1L8.5 8.5l.94-2.06 2.06-.94-2.06-.94L8.5 2.5l-.94 2.06-2.06.94zm10 10l.94 2.06.94-2.06 2.06-.94-2.06-.94-.94-2.06-.94 2.06-2.06.94z\"/><path d=\"M17.41 7.96l-1.37-1.37c-.4-.4-.92-.59-1.43-.59-.52 0-1.04.2-1.43.59L10.3 9.45l-7.72 7.72c-.78.78-.78 2.05 0 2.83L4 21.41c.39.39.9.59 1.41.59.51 0 1.02-.2 1.41-.59l7.78-7.78 2.81-2.81c.8-.78.8-2.07 0-2.86zM5.41 20L4 18.59l7.72-7.72 1.47 1.35L5.41 20z\"/>\n",
              "  </svg>\n",
              "      </button>\n",
              "      \n",
              "  <style>\n",
              "    .colab-df-container {\n",
              "      display:flex;\n",
              "      flex-wrap:wrap;\n",
              "      gap: 12px;\n",
              "    }\n",
              "\n",
              "    .colab-df-convert {\n",
              "      background-color: #E8F0FE;\n",
              "      border: none;\n",
              "      border-radius: 50%;\n",
              "      cursor: pointer;\n",
              "      display: none;\n",
              "      fill: #1967D2;\n",
              "      height: 32px;\n",
              "      padding: 0 0 0 0;\n",
              "      width: 32px;\n",
              "    }\n",
              "\n",
              "    .colab-df-convert:hover {\n",
              "      background-color: #E2EBFA;\n",
              "      box-shadow: 0px 1px 2px rgba(60, 64, 67, 0.3), 0px 1px 3px 1px rgba(60, 64, 67, 0.15);\n",
              "      fill: #174EA6;\n",
              "    }\n",
              "\n",
              "    [theme=dark] .colab-df-convert {\n",
              "      background-color: #3B4455;\n",
              "      fill: #D2E3FC;\n",
              "    }\n",
              "\n",
              "    [theme=dark] .colab-df-convert:hover {\n",
              "      background-color: #434B5C;\n",
              "      box-shadow: 0px 1px 3px 1px rgba(0, 0, 0, 0.15);\n",
              "      filter: drop-shadow(0px 1px 2px rgba(0, 0, 0, 0.3));\n",
              "      fill: #FFFFFF;\n",
              "    }\n",
              "  </style>\n",
              "\n",
              "      <script>\n",
              "        const buttonEl =\n",
              "          document.querySelector('#df-2e178cf5-d1db-417b-b9db-d86a82d96567 button.colab-df-convert');\n",
              "        buttonEl.style.display =\n",
              "          google.colab.kernel.accessAllowed ? 'block' : 'none';\n",
              "\n",
              "        async function convertToInteractive(key) {\n",
              "          const element = document.querySelector('#df-2e178cf5-d1db-417b-b9db-d86a82d96567');\n",
              "          const dataTable =\n",
              "            await google.colab.kernel.invokeFunction('convertToInteractive',\n",
              "                                                     [key], {});\n",
              "          if (!dataTable) return;\n",
              "\n",
              "          const docLinkHtml = 'Like what you see? Visit the ' +\n",
              "            '<a target=\"_blank\" href=https://colab.research.google.com/notebooks/data_table.ipynb>data table notebook</a>'\n",
              "            + ' to learn more about interactive tables.';\n",
              "          element.innerHTML = '';\n",
              "          dataTable['output_type'] = 'display_data';\n",
              "          await google.colab.output.renderOutput(dataTable, element);\n",
              "          const docLink = document.createElement('div');\n",
              "          docLink.innerHTML = docLinkHtml;\n",
              "          element.appendChild(docLink);\n",
              "        }\n",
              "      </script>\n",
              "    </div>\n",
              "  </div>\n",
              "  "
            ]
          },
          "metadata": {},
          "execution_count": 136
        }
      ]
    },
    {
      "cell_type": "code",
      "source": [
        "fig,(ax1,ax2,ax3)=plt.subplots(1,3,figsize=(12,5))\n",
        "plt.style.use('dark_background')\n",
        "text_len=data[data['Label']==0]['text'].apply(len)\n",
        "ax1.hist(text_len,color='blue')\n",
        "ax1.set_xlabel('Length of comment')\n",
        "ax1.set_ylabel('Count of comment')\n",
        "ax1.set_title('Non-toxic comment text length')\n",
        "\n",
        "text_len=data[data['Label']==1]['text'].apply(len)\n",
        "ax2.hist(text_len,color='yellow')\n",
        "ax2.set_xlabel('Length of comment')\n",
        "ax2.set_ylabel('Count of comment')\n",
        "ax2.set_title('Toxic comment text length')\n",
        "\n",
        "text_len=data[data['Label']==2]['text'].apply(len)\n",
        "ax3.hist(text_len,color='red')\n",
        "ax3.set_xlabel('Length of comment')\n",
        "ax3.set_ylabel('Count of comment')\n",
        "ax3.set_title('Very toxic comment text length')\n",
        "\n",
        "plt.show()"
      ],
      "metadata": {
        "colab": {
          "base_uri": "https://localhost:8080/",
          "height": 420
        },
        "id": "jIhAy2gvZapu",
        "outputId": "8e68a267-6480-43b0-f5bb-42c4c96a9efa"
      },
      "execution_count": null,
      "outputs": [
        {
          "output_type": "display_data",
          "data": {
            "text/plain": [
              "<Figure size 1200x500 with 3 Axes>"
            ],
            "image/png": "[encoded data removed]"
          },
          "metadata": {}
        }
      ]
    },
    {
      "cell_type": "code",
      "source": [
        "words = []\n",
        "\n",
        "for text in data_train:\n",
        "    words.extend(text.split())\n",
        "word_count = collections.Counter(words)\n",
        "top_words = dict(word_count.most_common(10))\n",
        "plt.style.use('dark_background')\n",
        "plt.figure(figsize = (12, 8))\n",
        "plt.bar(range(len(top_words)), list(top_words.values()), align='center')\n",
        "plt.xticks(range(len(top_words)), list(top_words.keys()))\n",
        "plt.grid(alpha = 0.5)\n",
        "plt.title('Top 10 most-used-words', fontsize = 18)\n",
        "plt.xlabel('Words')\n",
        "plt.ylabel('Frequency')\n",
        "\n",
        "plt.show()"
      ],
      "metadata": {
        "colab": {
          "base_uri": "https://localhost:8080/",
          "height": 623
        },
        "id": "Y9d1zAKSAkAR",
        "outputId": "015867d1-3f43-4d7b-f8e7-1cb9b52e1ac9"
      },
      "execution_count": null,
      "outputs": [
        {
          "output_type": "display_data",
          "data": {
            "text/plain": [
              "<Figure size 1200x800 with 1 Axes>"
            ],
            "image/png": "[encoded data removed]"
          },
          "metadata": {}
        }
      ]
    },
    {
      "cell_type": "code",
      "source": [
        "encoded_text = [tokenizer.encode(text, add_special_tokens=True) for text in data['Comment']]\n",
        "token_lens = [len(text) for text in encoded_text]\n",
        "sns.displot(token_lens)\n",
        "plt.xlim([0,max(token_lens)])\n",
        "plt.xlabel('Token Count')"
      ],
      "metadata": {
        "id": "Acp2ffhuFsT_",
        "colab": {
          "base_uri": "https://localhost:8080/",
          "height": 541
        },
        "outputId": "afe831b4-808e-43a0-8d9c-66f5360754bd"
      },
      "execution_count": null,
      "outputs": [
        {
          "output_type": "execute_result",
          "data": {
            "text/plain": [
              "Text(0.5, 12.44444444444443, 'Token Count')"
            ]
          },
          "metadata": {},
          "execution_count": 141
        },
        {
          "output_type": "display_data",
          "data": {
            "text/plain": [
              "<Figure size 500x500 with 1 Axes>"
            ],
            "image/png": "[encoded data removed]"
          },
          "metadata": {}
        }
      ]
    },
    {
      "cell_type": "markdown",
      "source": [
        "##Spliting Data - Thực hiện phân chia tập dữ liệu thành tập Train và tập Test\n",
        "\n",
        "- Tỉ lệ giữa tập Train và Test là 80:20"
      ],
      "metadata": {
        "id": "_T-wGISTr9DV"
      }
    },
    {
      "cell_type": "code",
      "source": [
        "X = np.array(data['Comment'])\n",
        "Y = np.array(data['Label'])\n",
        "\n",
        "xtrain, xtest, ytrain, ytest = train_test_split(X, Y, test_size = 0.20, random_state = 0, shuffle = True)"
      ],
      "metadata": {
        "id": "dELtq9REpkrj"
      },
      "execution_count": null,
      "outputs": []
    },
    {
      "cell_type": "code",
      "source": [
        "print (\"Thống kê số lượng dữ liệu của tập Train và tập Test\")\n",
        "\n",
        "print (\"Tập train\")\n",
        "print (\"Kích thước tập Train:\",xtrain.shape)\n",
        "for i in range (len(label_name)):\n",
        "    print(label_name[i],\":\",np.count_nonzero(ytrain==i))\n",
        "print('-' * 55)\n",
        "print (\"Tập test\")\n",
        "print (\"Kích thước tập Test:\",xtest.shape)\n",
        "for i in range(len(label_name)):\n",
        "    print(label_name[i],\":\",np.count_nonzero(ytest==i))"
      ],
      "metadata": {
        "colab": {
          "base_uri": "https://localhost:8080/"
        },
        "id": "gHCJ6AA1BGIE",
        "outputId": "763f23b2-ed40-41ee-bf9a-bf5493748865"
      },
      "execution_count": null,
      "outputs": [
        {
          "output_type": "stream",
          "name": "stdout",
          "text": [
            "Thống kê số lượng dữ liệu của tập Train và tập Test\n",
            "Tập train\n",
            "Kích thước tập Train: (8494,)\n",
            "0 : 6110\n",
            "1 : 1441\n",
            "2 : 943\n",
            "-------------------------------------------------------\n",
            "Tập test\n",
            "Kích thước tập Test: (2124,)\n",
            "0 : 1506\n",
            "1 : 368\n",
            "2 : 250\n"
          ]
        }
      ]
    },
    {
      "cell_type": "markdown",
      "source": [
        "#Chọn 1 trong 2 để chuyển text về vector"
      ],
      "metadata": {
        "id": "GSzj3QOyMSuU"
      }
    },
    {
      "cell_type": "code",
      "source": [
        "cv = CountVectorizer()\n",
        "\n",
        "xtrain_transform = cv.fit_transform(xtrain)\n",
        "xtest_transform = cv.transform (xtest)"
      ],
      "metadata": {
        "id": "0jBU_iP-yHH8"
      },
      "execution_count": null,
      "outputs": []
    },
    {
      "cell_type": "code",
      "source": [
        "tf = TfidfVectorizer()\n",
        "xtrain_transform = tf.fit_transform(xtrain)\n",
        "xtest_transform = tf.transform (xtest)"
      ],
      "metadata": {
        "id": "4MAmadqLLxlC"
      },
      "execution_count": null,
      "outputs": []
    },
    {
      "cell_type": "markdown",
      "source": [
        "# Training\n"
      ],
      "metadata": {
        "id": "XcoHgw6lAnei"
      }
    },
    {
      "cell_type": "markdown",
      "source": [
        "Nhóm thực hiện xây dựng 5 model để thực hiện phân lớp cho bài tập này tương ứng với dùng phương pháp trích xuất đặc trưng Count Vectorizer gồm:\n",
        "1. Support Vector Classifier (SVC)*\n",
        "2. Random Forest*\n",
        "3. Decision Tree*\n",
        "4. Logistic Regression*\n",
        "5. Multinomial Naive Bayes*\n",
        "\n",
        "*Các tham số được dùng mặc định cho từng mô hình"
      ],
      "metadata": {
        "id": "fwr2T8Pd40Nc"
      }
    },
    {
      "cell_type": "code",
      "source": [
        "clf = svm.SVC()\n",
        "clf.fit(xtrain_transform ,ytrain)\n",
        "\n",
        "tree = DecisionTreeClassifier()\n",
        "tree.fit(xtrain_transform,ytrain)\n",
        "\n",
        "rgs = LogisticRegression()\n",
        "rgs.fit(xtrain_transform,ytrain)\n",
        "\n",
        "mnb = MultinomialNB()\n",
        "mnb.fit (xtrain_transform,ytrain)\n",
        "\n",
        "rdf=RandomForestClassifier()\n",
        "rdf.fit(xtrain_transform,ytrain)"
      ],
      "metadata": {
        "colab": {
          "base_uri": "https://localhost:8080/",
          "height": 234
        },
        "id": "_bNhw7jjAqAT",
        "outputId": "5bc9581e-3a74-462e-e5f3-2bcc4d5c3c09"
      },
      "execution_count": null,
      "outputs": [
        {
          "output_type": "stream",
          "name": "stderr",
          "text": [
            "/usr/local/lib/python3.10/dist-packages/sklearn/linear_model/_logistic.py:458: ConvergenceWarning: lbfgs failed to converge (status=1):\n",
            "STOP: TOTAL NO. of ITERATIONS REACHED LIMIT.\n",
            "\n",
            "Increase the number of iterations (max_iter) or scale the data as shown in:\n",
            "    https://scikit-learn.org/stable/modules/preprocessing.html\n",
            "Please also refer to the documentation for alternative solver options:\n",
            "    https://scikit-learn.org/stable/modules/linear_model.html#logistic-regression\n",
            "  n_iter_i = _check_optimize_result(\n"
          ]
        },
        {
          "output_type": "execute_result",
          "data": {
            "text/plain": [
              "RandomForestClassifier()"
            ],
            "text/html": [
              "<style>#sk-container-id-10 {color: black;background-color: white;}#sk-container-id-10 pre{padding: 0;}#sk-container-id-10 div.sk-toggleable {background-color: white;}#sk-container-id-10 label.sk-toggleable__label {cursor: pointer;display: block;width: 100%;margin-bottom: 0;padding: 0.3em;box-sizing: border-box;text-align: center;}#sk-container-id-10 label.sk-toggleable__label-arrow:before {content: \"▸\";float: left;margin-right: 0.25em;color: #696969;}#sk-container-id-10 label.sk-toggleable__label-arrow:hover:before {color: black;}#sk-container-id-10 div.sk-estimator:hover label.sk-toggleable__label-arrow:before {color: black;}#sk-container-id-10 div.sk-toggleable__content {max-height: 0;max-width: 0;overflow: hidden;text-align: left;background-color: #f0f8ff;}#sk-container-id-10 div.sk-toggleable__content pre {margin: 0.2em;color: black;border-radius: 0.25em;background-color: #f0f8ff;}#sk-container-id-10 input.sk-toggleable__control:checked~div.sk-toggleable__content {max-height: 200px;max-width: 100%;overflow: auto;}#sk-container-id-10 input.sk-toggleable__control:checked~label.sk-toggleable__label-arrow:before {content: \"▾\";}#sk-container-id-10 div.sk-estimator input.sk-toggleable__control:checked~label.sk-toggleable__label {background-color: #d4ebff;}#sk-container-id-10 div.sk-label input.sk-toggleable__control:checked~label.sk-toggleable__label {background-color: #d4ebff;}#sk-container-id-10 input.sk-hidden--visually {border: 0;clip: rect(1px 1px 1px 1px);clip: rect(1px, 1px, 1px, 1px);height: 1px;margin: -1px;overflow: hidden;padding: 0;position: absolute;width: 1px;}#sk-container-id-10 div.sk-estimator {font-family: monospace;background-color: #f0f8ff;border: 1px dotted black;border-radius: 0.25em;box-sizing: border-box;margin-bottom: 0.5em;}#sk-container-id-10 div.sk-estimator:hover {background-color: #d4ebff;}#sk-container-id-10 div.sk-parallel-item::after {content: \"\";width: 100%;border-bottom: 1px solid gray;flex-grow: 1;}#sk-container-id-10 div.sk-label:hover label.sk-toggleable__label {background-color: #d4ebff;}#sk-container-id-10 div.sk-serial::before {content: \"\";position: absolute;border-left: 1px solid gray;box-sizing: border-box;top: 0;bottom: 0;left: 50%;z-index: 0;}#sk-container-id-10 div.sk-serial {display: flex;flex-direction: column;align-items: center;background-color: white;padding-right: 0.2em;padding-left: 0.2em;position: relative;}#sk-container-id-10 div.sk-item {position: relative;z-index: 1;}#sk-container-id-10 div.sk-parallel {display: flex;align-items: stretch;justify-content: center;background-color: white;position: relative;}#sk-container-id-10 div.sk-item::before, #sk-container-id-10 div.sk-parallel-item::before {content: \"\";position: absolute;border-left: 1px solid gray;box-sizing: border-box;top: 0;bottom: 0;left: 50%;z-index: -1;}#sk-container-id-10 div.sk-parallel-item {display: flex;flex-direction: column;z-index: 1;position: relative;background-color: white;}#sk-container-id-10 div.sk-parallel-item:first-child::after {align-self: flex-end;width: 50%;}#sk-container-id-10 div.sk-parallel-item:last-child::after {align-self: flex-start;width: 50%;}#sk-container-id-10 div.sk-parallel-item:only-child::after {width: 0;}#sk-container-id-10 div.sk-dashed-wrapped {border: 1px dashed gray;margin: 0 0.4em 0.5em 0.4em;box-sizing: border-box;padding-bottom: 0.4em;background-color: white;}#sk-container-id-10 div.sk-label label {font-family: monospace;font-weight: bold;display: inline-block;line-height: 1.2em;}#sk-container-id-10 div.sk-label-container {text-align: center;}#sk-container-id-10 div.sk-container {/* jupyter's `normalize.less` sets `[hidden] { display: none; }` but bootstrap.min.css set `[hidden] { display: none !important; }` so we also need the `!important` here to be able to override the default hidden behavior on the sphinx rendered scikit-learn.org. See: https://github.com/scikit-learn/scikit-learn/issues/21755 */display: inline-block !important;position: relative;}#sk-container-id-10 div.sk-text-repr-fallback {display: none;}</style><div id=\"sk-container-id-10\" class=\"sk-top-container\"><div class=\"sk-text-repr-fallback\"><pre>RandomForestClassifier()</pre><b>In a Jupyter environment, please rerun this cell to show the HTML representation or trust the notebook. <br />On GitHub, the HTML representation is unable to render, please try loading this page with nbviewer.org.</b></div><div class=\"sk-container\" hidden><div class=\"sk-item\"><div class=\"sk-estimator sk-toggleable\"><input class=\"sk-toggleable__control sk-hidden--visually\" id=\"sk-estimator-id-10\" type=\"checkbox\" checked><label for=\"sk-estimator-id-10\" class=\"sk-toggleable__label sk-toggleable__label-arrow\">RandomForestClassifier</label><div class=\"sk-toggleable__content\"><pre>RandomForestClassifier()</pre></div></div></div></div></div>"
            ]
          },
          "metadata": {},
          "execution_count": 172
        }
      ]
    },
    {
      "cell_type": "markdown",
      "source": [
        "#Predict && Eval\n"
      ],
      "metadata": {
        "id": "V2LF9R6zBIfK"
      }
    },
    {
      "cell_type": "markdown",
      "source": [
        "Kết quả phân lớp của 5 mô hình dựa trên Classfication Report"
      ],
      "metadata": {
        "id": "LrujsW8JLLZS"
      }
    },
    {
      "cell_type": "code",
      "source": [
        "pred_svm = clf.predict(xtest_transform)\n",
        "pred_tree = tree.predict(xtest_transform)\n",
        "pred_rdf = rdf.predict(xtest_transform)\n",
        "pred_rgs = rgs.predict(xtest_transform)\n",
        "pred_mnb = mnb.predict(xtest_transform)\n",
        "\n",
        "print(f\"Accuracy SVC: {accuracy_score(ytest,pred_svm)}\")\n",
        "print(classification_report(ytest,pred_svm))\n",
        "\n",
        "print('-' * 55)\n",
        "\n",
        "print(f\"Accuracy Decision Tree: {accuracy_score(ytest,pred_tree)}\")\n",
        "print(classification_report(ytest,pred_tree))\n",
        "\n",
        "print('-' * 55)\n",
        "\n",
        "print(f\"Accuracy Random Forest: {accuracy_score(ytest,pred_rdf)}\")\n",
        "print(classification_report(ytest,pred_rdf))\n",
        "\n",
        "print('-' * 55)\n",
        "\n",
        "print(f\"Accuracy Logistic Regression: {accuracy_score(ytest,pred_rgs)}\")\n",
        "print(classification_report(ytest,pred_rgs))\n",
        "\n",
        "print('-' * 55)\n",
        "\n",
        "print(f\"Accuracy Multinomial Navie Bayes: {accuracy_score(ytest,pred_mnb)}\")\n",
        "print(classification_report(ytest,pred_mnb))"
      ],
      "metadata": {
        "colab": {
          "base_uri": "https://localhost:8080/"
        },
        "id": "v0ODGD6tBJwG",
        "outputId": "afc7f562-0588-4621-fcfc-6fc830a3ae29"
      },
      "execution_count": null,
      "outputs": [
        {
          "output_type": "stream",
          "name": "stdout",
          "text": [
            "Accuracy SVC: 0.8290960451977402\n",
            "              precision    recall  f1-score   support\n",
            "\n",
            "           0       0.84      0.99      0.91      1506\n",
            "           1       0.75      0.46      0.57       368\n",
            "           2       0.87      0.42      0.56       250\n",
            "\n",
            "    accuracy                           0.83      2124\n",
            "   macro avg       0.82      0.62      0.68      2124\n",
            "weighted avg       0.83      0.83      0.81      2124\n",
            "\n",
            "-------------------------------------------------------\n",
            "Accuracy Decision Tree: 0.8305084745762712\n",
            "              precision    recall  f1-score   support\n",
            "\n",
            "           0       0.91      0.92      0.92      1506\n",
            "           1       0.60      0.62      0.61       368\n",
            "           2       0.67      0.60      0.63       250\n",
            "\n",
            "    accuracy                           0.83      2124\n",
            "   macro avg       0.73      0.71      0.72      2124\n",
            "weighted avg       0.83      0.83      0.83      2124\n",
            "\n",
            "-------------------------------------------------------\n",
            "Accuracy Random Forest: 0.8549905838041432\n",
            "              precision    recall  f1-score   support\n",
            "\n",
            "           0       0.90      0.96      0.93      1506\n",
            "           1       0.68      0.61      0.65       368\n",
            "           2       0.77      0.60      0.68       250\n",
            "\n",
            "    accuracy                           0.85      2124\n",
            "   macro avg       0.78      0.72      0.75      2124\n",
            "weighted avg       0.85      0.85      0.85      2124\n",
            "\n",
            "-------------------------------------------------------\n",
            "Accuracy Logistic Regression: 0.853578154425612\n",
            "              precision    recall  f1-score   support\n",
            "\n",
            "           0       0.89      0.96      0.93      1506\n",
            "           1       0.70      0.58      0.63       368\n",
            "           2       0.76      0.59      0.66       250\n",
            "\n",
            "    accuracy                           0.85      2124\n",
            "   macro avg       0.78      0.71      0.74      2124\n",
            "weighted avg       0.84      0.85      0.85      2124\n",
            "\n",
            "-------------------------------------------------------\n",
            "Accuracy Multinomial Navie Bayes: 0.8314500941619586\n",
            "              precision    recall  f1-score   support\n",
            "\n",
            "           0       0.87      0.96      0.92      1506\n",
            "           1       0.67      0.49      0.56       368\n",
            "           2       0.69      0.55      0.61       250\n",
            "\n",
            "    accuracy                           0.83      2124\n",
            "   macro avg       0.74      0.67      0.70      2124\n",
            "weighted avg       0.82      0.83      0.82      2124\n",
            "\n"
          ]
        }
      ]
    },
    {
      "cell_type": "code",
      "source": [
        "print(f\"Accuracy: {accuracy_score(ytest,pred_mnb)}\")\n",
        "print (\"Precision:\",precision_score(ytest,pred_mnb,average='macro'))\n",
        "print (\"Recall:\",recall_score(ytest,pred_mnb,average='macro'))\n",
        "print (\"F1:\",f1_score(ytest,pred_mnb,average='macro'))"
      ],
      "metadata": {
        "colab": {
          "base_uri": "https://localhost:8080/"
        },
        "id": "nrH-r0neeNcW",
        "outputId": "45bae313-5d82-41f4-bac2-c96c9dca7641"
      },
      "execution_count": null,
      "outputs": [
        {
          "output_type": "stream",
          "name": "stdout",
          "text": [
            "Accuracy SVM: 0.7627118644067796\n",
            "Precision: 0.7742184858110618\n",
            "Recall: 0.45857117424023713\n",
            "F1: 0.4903942173574354\n"
          ]
        }
      ]
    },
    {
      "cell_type": "code",
      "source": [
        "cf = confusion_matrix (ytest,pred_svm)\n",
        "label_name = ['Non Toxic','Toxic','Very Toxic']\n",
        "sns.set(font_scale=1.)\n",
        "sns.heatmap(cf, annot=True,xticklabels=label_name,yticklabels=label_name, annot_kws={\"size\": 12},fmt='d')\n",
        "plt.title (\"Confusion Matrix - Model Support Vector Classifier\",fontsize=12)\n",
        "plt.xlabel('Predicted',fontsize=12)\n",
        "plt.ylabel('True',fontsize=12)\n",
        "plt.show()"
      ],
      "metadata": {
        "colab": {
          "base_uri": "https://localhost:8080/",
          "height": 480
        },
        "id": "3TQXu7eyOhSH",
        "outputId": "58b69413-6403-4003-f8e5-3e89049d335a"
      },
      "execution_count": null,
      "outputs": [
        {
          "output_type": "display_data",
          "data": {
            "text/plain": [
              "<Figure size 640x480 with 2 Axes>"
            ],
            "image/png": "[encoded data removed]"
          },
          "metadata": {}
        }
      ]
    },
    {
      "cell_type": "code",
      "source": [
        "cf = confusion_matrix (ytest,pred_tree)\n",
        "\n",
        "sns.set(font_scale=1.)\n",
        "sns.heatmap(cf, annot=True,xticklabels=label_name,yticklabels=label_name, annot_kws={\"size\": 12},fmt='d')\n",
        "plt.title (\"Confusion Matrix - Model Decision Tree\",fontsize=12)\n",
        "plt.xlabel('Predicted',fontsize=12)\n",
        "plt.ylabel('True',fontsize=12)\n",
        "plt.show()"
      ],
      "metadata": {
        "colab": {
          "base_uri": "https://localhost:8080/",
          "height": 480
        },
        "id": "6uK15TUqT7J_",
        "outputId": "59bb412b-afe1-4afb-cf8a-ac7527d1b454"
      },
      "execution_count": null,
      "outputs": [
        {
          "output_type": "display_data",
          "data": {
            "text/plain": [
              "<Figure size 640x480 with 2 Axes>"
            ],
            "image/png": "[encoded data removed]"
          },
          "metadata": {}
        }
      ]
    },
    {
      "cell_type": "code",
      "source": [
        "cf = confusion_matrix (ytest,pred_rdf)\n",
        "\n",
        "sns.set(font_scale=1.)\n",
        "sns.heatmap(cf, annot=True,xticklabels=label_name,yticklabels=label_name, annot_kws={\"size\": 12},fmt='d')\n",
        "plt.title (\"Confusion Matrix - Model Random Forest\",fontsize=12)\n",
        "plt.xlabel('Predicted',fontsize=12)\n",
        "plt.ylabel('True',fontsize=12)\n",
        "plt.show()"
      ],
      "metadata": {
        "colab": {
          "base_uri": "https://localhost:8080/",
          "height": 480
        },
        "id": "4ztKvGONT8v9",
        "outputId": "60428a04-e1c8-4111-843b-13edd2d6880c"
      },
      "execution_count": null,
      "outputs": [
        {
          "output_type": "display_data",
          "data": {
            "text/plain": [
              "<Figure size 640x480 with 2 Axes>"
            ],
            "image/png": "[encoded data removed]"
          },
          "metadata": {}
        }
      ]
    },
    {
      "cell_type": "code",
      "source": [
        "cf = confusion_matrix (ytest,pred_rgs)\n",
        "label_name = ['Non Toxic','Toxic','Very Toxic']\n",
        "sns.set(font_scale=1.)\n",
        "sns.heatmap(cf, annot=True,xticklabels=label_name,yticklabels=label_name,annot_kws={\"size\": 12},fmt='d')\n",
        "plt.title (\"Confusion Matrix - Model Logistic Regression\",fontsize=12)\n",
        "plt.xlabel('Predicted',fontsize=12)\n",
        "plt.ylabel('True',fontsize=12)\n",
        "plt.show()"
      ],
      "metadata": {
        "colab": {
          "base_uri": "https://localhost:8080/",
          "height": 480
        },
        "id": "trhuZmbdT9U_",
        "outputId": "b3152012-3244-4fae-aad9-bb219db63802"
      },
      "execution_count": null,
      "outputs": [
        {
          "output_type": "display_data",
          "data": {
            "text/plain": [
              "<Figure size 640x480 with 2 Axes>"
            ],
            "image/png": "[encoded data removed]"
          },
          "metadata": {}
        }
      ]
    },
    {
      "cell_type": "code",
      "source": [
        "cf = confusion_matrix (ytest,pred_mnb)\n",
        "label_name = ['Non Toxic','Toxic','Very Toxic']\n",
        "sns.set(font_scale=1.)\n",
        "sns.heatmap(cf, annot=True,xticklabels=label_name,yticklabels=label_name, annot_kws={\"size\": 12},fmt='d')\n",
        "plt.title (\"Confusion Matrix - Model Multinomial Naive Bayes\",fontsize=12)\n",
        "plt.xlabel('Predicted',fontsize=12)\n",
        "plt.ylabel('True',fontsize=12)\n",
        "plt.show()"
      ],
      "metadata": {
        "colab": {
          "base_uri": "https://localhost:8080/",
          "height": 480
        },
        "id": "99V2Jma4T9z9",
        "outputId": "3dff7ec1-dbd1-4c67-91c6-7cd6f9c9a71c"
      },
      "execution_count": null,
      "outputs": [
        {
          "output_type": "display_data",
          "data": {
            "text/plain": [
              "<Figure size 640x480 with 2 Axes>"
            ],
            "image/png": "[encoded data removed]"
          },
          "metadata": {}
        }
      ]
    },
    {
      "cell_type": "markdown",
      "source": [
        "So sánh độ chính xác của 5 mô hình"
      ],
      "metadata": {
        "id": "ivwZCo-Q5yjB"
      }
    },
    {
      "cell_type": "code",
      "source": [
        "data_accuracy = {\n",
        "    'SVC': accuracy_score(ytest,pred_svm),\n",
        "    'Logistic Regress.':accuracy_score(ytest,pred_rgs),\n",
        "    'Random Forest': accuracy_score(ytest,pred_rdf),\n",
        "    'Decision Tree': accuracy_score(ytest,pred_tree),\n",
        "    'MultinomialNB': accuracy_score(ytest,pred_mnb),\n",
        "}\n",
        "\n",
        "df = pd.DataFrame.from_dict(data_accuracy, orient='index', columns=['accuracy'])\n",
        "df = df.reset_index().rename(columns={'index': 'model'})"
      ],
      "metadata": {
        "id": "3psau6Sd52C0"
      },
      "execution_count": null,
      "outputs": []
    },
    {
      "cell_type": "code",
      "source": [
        "# Create bar chart\n",
        "sns.barplot(x='model', y='accuracy', data=df)\n",
        "\n",
        "# Add labels to bars\n",
        "ax = plt.gca()\n",
        "for bar in ax.containers:\n",
        "    ax.bar_label(bar, label_type='edge', labels=[f\"{x:.1%}\" for x in bar.datavalues], fontsize=10)\n",
        "\n",
        "# Adjust the layout\n",
        "plt.tight_layout()\n",
        "plt.title (\"Comparision accuracy based on accuracy_score among 5 models\")\n",
        "plt.show()"
      ],
      "metadata": {
        "colab": {
          "base_uri": "https://localhost:8080/",
          "height": 509
        },
        "id": "GuDRup3EypN9",
        "outputId": "ae009669-9b96-434f-82b9-101d3e0fd7c6"
      },
      "execution_count": null,
      "outputs": [
        {
          "output_type": "display_data",
          "data": {
            "text/plain": [
              "<Figure size 640x480 with 1 Axes>"
            ],
            "image/png": "[encoded data removed]"
          },
          "metadata": {}
        }
      ]
    },
    {
      "cell_type": "markdown",
      "source": [
        "Thống kê các trường hợp dự đoán sai của mô hình có accuracy_score tốt nhất (Logistic Regression)"
      ],
      "metadata": {
        "id": "BhvagoanuMVq"
      }
    },
    {
      "cell_type": "code",
      "source": [
        "sentence_difference = list ()\n",
        "predict_label = list ()\n",
        "true_label = list ()\n",
        "\n",
        "for i in range (len(pred_rdf)):\n",
        "  if pred_rdf[i] != ytest[i]:\n",
        "    sentence_difference.append (xtest[i])\n",
        "    true_label.append (ytest[i])\n",
        "    predict_label.append (pred_rdf[i])\n",
        "#print (diff_list)\n",
        "\n",
        "dict_df = {\n",
        "    \"Sentence\": sentence_difference,\n",
        "    \"Predict\": predict_label,\n",
        "    \"True\": true_label\n",
        "}\n",
        "\n",
        "#Print the headline has different predict with true label\n",
        "df_differ = pd.DataFrame (dict_df)\n",
        "#Xuất thành file csv\n",
        "#df_differ.to_csv(\"/content/differ_in_predict.csv\")\n",
        "\n",
        "df_differ"
      ],
      "metadata": {
        "colab": {
          "base_uri": "https://localhost:8080/",
          "height": 721
        },
        "id": "fapSnLBBpJkg",
        "outputId": "a569582c-34c2-4d9e-f476-fae910e688c1"
      },
      "execution_count": null,
      "outputs": [
        {
          "output_type": "execute_result",
          "data": {
            "text/plain": [
              "                                              Sentence  Predict  True\n",
              "0                                            # gânđàm         0     1\n",
              "1         đại_diện Việt_Nam đánh đầu_bài đái mặt_nước         0     2\n",
              "2    bây_giờ cảnh 2 slot chung_kết thế_giới wc gõ n...        0     1\n",
              "3                  năng_lực buồn năng_lực buồn mấy cu         0     1\n",
              "4                                 mất_dạy content đéo         0     2\n",
              "..                                                 ...      ...   ...\n",
              "301                              đỗ thành_sơn vãi lồn         2     1\n",
              "302                           tập luơng nhục quốc_gia         0     1\n",
              "303                                 súc_vật gam é é é         0     2\n",
              "304                              lối đánh hèn gam hèn         0     1\n",
              "305                              riêng_tư đéo hari má         0     2\n",
              "\n",
              "[306 rows x 3 columns]"
            ],
            "text/html": [
              "\n",
              "  <div id=\"df-7254510d-57c3-472f-9f98-b9b565dd98b9\">\n",
              "    <div class=\"colab-df-container\">\n",
              "      <div>\n",
              "<style scoped>\n",
              "    .dataframe tbody tr th:only-of-type {\n",
              "        vertical-align: middle;\n",
              "    }\n",
              "\n",
              "    .dataframe tbody tr th {\n",
              "        vertical-align: top;\n",
              "    }\n",
              "\n",
              "    .dataframe thead th {\n",
              "        text-align: right;\n",
              "    }\n",
              "</style>\n",
              "<table border=\"1\" class=\"dataframe\">\n",
              "  <thead>\n",
              "    <tr style=\"text-align: right;\">\n",
              "      <th></th>\n",
              "      <th>Sentence</th>\n",
              "      <th>Predict</th>\n",
              "      <th>True</th>\n",
              "    </tr>\n",
              "  </thead>\n",
              "  <tbody>\n",
              "    <tr>\n",
              "      <th>0</th>\n",
              "      <td># gânđàm</td>\n",
              "      <td>0</td>\n",
              "      <td>1</td>\n",
              "    </tr>\n",
              "    <tr>\n",
              "      <th>1</th>\n",
              "      <td>đại_diện Việt_Nam đánh đầu_bài đái mặt_nước</td>\n",
              "      <td>0</td>\n",
              "      <td>2</td>\n",
              "    </tr>\n",
              "    <tr>\n",
              "      <th>2</th>\n",
              "      <td>bây_giờ cảnh 2 slot chung_kết thế_giới wc gõ n...</td>\n",
              "      <td>0</td>\n",
              "      <td>1</td>\n",
              "    </tr>\n",
              "    <tr>\n",
              "      <th>3</th>\n",
              "      <td>năng_lực buồn năng_lực buồn mấy cu</td>\n",
              "      <td>0</td>\n",
              "      <td>1</td>\n",
              "    </tr>\n",
              "    <tr>\n",
              "      <th>4</th>\n",
              "      <td>mất_dạy content đéo</td>\n",
              "      <td>0</td>\n",
              "      <td>2</td>\n",
              "    </tr>\n",
              "    <tr>\n",
              "      <th>...</th>\n",
              "      <td>...</td>\n",
              "      <td>...</td>\n",
              "      <td>...</td>\n",
              "    </tr>\n",
              "    <tr>\n",
              "      <th>301</th>\n",
              "      <td>đỗ thành_sơn vãi lồn</td>\n",
              "      <td>2</td>\n",
              "      <td>1</td>\n",
              "    </tr>\n",
              "    <tr>\n",
              "      <th>302</th>\n",
              "      <td>tập luơng nhục quốc_gia</td>\n",
              "      <td>0</td>\n",
              "      <td>1</td>\n",
              "    </tr>\n",
              "    <tr>\n",
              "      <th>303</th>\n",
              "      <td>súc_vật gam é é é</td>\n",
              "      <td>0</td>\n",
              "      <td>2</td>\n",
              "    </tr>\n",
              "    <tr>\n",
              "      <th>304</th>\n",
              "      <td>lối đánh hèn gam hèn</td>\n",
              "      <td>0</td>\n",
              "      <td>1</td>\n",
              "    </tr>\n",
              "    <tr>\n",
              "      <th>305</th>\n",
              "      <td>riêng_tư đéo hari má</td>\n",
              "      <td>0</td>\n",
              "      <td>2</td>\n",
              "    </tr>\n",
              "  </tbody>\n",
              "</table>\n",
              "<p>306 rows × 3 columns</p>\n",
              "</div>\n",
              "      <button class=\"colab-df-convert\" onclick=\"convertToInteractive('df-7254510d-57c3-472f-9f98-b9b565dd98b9')\"\n",
              "              title=\"Convert this dataframe to an interactive table.\"\n",
              "              style=\"display:none;\">\n",
              "        \n",
              "  <svg xmlns=\"http://www.w3.org/2000/svg\" height=\"24px\"viewBox=\"0 0 24 24\"\n",
              "       width=\"24px\">\n",
              "    <path d=\"M0 0h24v24H0V0z\" fill=\"none\"/>\n",
              "    <path d=\"M18.56 5.44l.94 2.06.94-2.06 2.06-.94-2.06-.94-.94-2.06-.94 2.06-2.06.94zm-11 1L8.5 8.5l.94-2.06 2.06-.94-2.06-.94L8.5 2.5l-.94 2.06-2.06.94zm10 10l.94 2.06.94-2.06 2.06-.94-2.06-.94-.94-2.06-.94 2.06-2.06.94z\"/><path d=\"M17.41 7.96l-1.37-1.37c-.4-.4-.92-.59-1.43-.59-.52 0-1.04.2-1.43.59L10.3 9.45l-7.72 7.72c-.78.78-.78 2.05 0 2.83L4 21.41c.39.39.9.59 1.41.59.51 0 1.02-.2 1.41-.59l7.78-7.78 2.81-2.81c.8-.78.8-2.07 0-2.86zM5.41 20L4 18.59l7.72-7.72 1.47 1.35L5.41 20z\"/>\n",
              "  </svg>\n",
              "      </button>\n",
              "      \n",
              "  <style>\n",
              "    .colab-df-container {\n",
              "      display:flex;\n",
              "      flex-wrap:wrap;\n",
              "      gap: 12px;\n",
              "    }\n",
              "\n",
              "    .colab-df-convert {\n",
              "      background-color: #E8F0FE;\n",
              "      border: none;\n",
              "      border-radius: 50%;\n",
              "      cursor: pointer;\n",
              "      display: none;\n",
              "      fill: #1967D2;\n",
              "      height: 32px;\n",
              "      padding: 0 0 0 0;\n",
              "      width: 32px;\n",
              "    }\n",
              "\n",
              "    .colab-df-convert:hover {\n",
              "      background-color: #E2EBFA;\n",
              "      box-shadow: 0px 1px 2px rgba(60, 64, 67, 0.3), 0px 1px 3px 1px rgba(60, 64, 67, 0.15);\n",
              "      fill: #174EA6;\n",
              "    }\n",
              "\n",
              "    [theme=dark] .colab-df-convert {\n",
              "      background-color: #3B4455;\n",
              "      fill: #D2E3FC;\n",
              "    }\n",
              "\n",
              "    [theme=dark] .colab-df-convert:hover {\n",
              "      background-color: #434B5C;\n",
              "      box-shadow: 0px 1px 3px 1px rgba(0, 0, 0, 0.15);\n",
              "      filter: drop-shadow(0px 1px 2px rgba(0, 0, 0, 0.3));\n",
              "      fill: #FFFFFF;\n",
              "    }\n",
              "  </style>\n",
              "\n",
              "      <script>\n",
              "        const buttonEl =\n",
              "          document.querySelector('#df-7254510d-57c3-472f-9f98-b9b565dd98b9 button.colab-df-convert');\n",
              "        buttonEl.style.display =\n",
              "          google.colab.kernel.accessAllowed ? 'block' : 'none';\n",
              "\n",
              "        async function convertToInteractive(key) {\n",
              "          const element = document.querySelector('#df-7254510d-57c3-472f-9f98-b9b565dd98b9');\n",
              "          const dataTable =\n",
              "            await google.colab.kernel.invokeFunction('convertToInteractive',\n",
              "                                                     [key], {});\n",
              "          if (!dataTable) return;\n",
              "\n",
              "          const docLinkHtml = 'Like what you see? Visit the ' +\n",
              "            '<a target=\"_blank\" href=https://colab.research.google.com/notebooks/data_table.ipynb>data table notebook</a>'\n",
              "            + ' to learn more about interactive tables.';\n",
              "          element.innerHTML = '';\n",
              "          dataTable['output_type'] = 'display_data';\n",
              "          await google.colab.output.renderOutput(dataTable, element);\n",
              "          const docLink = document.createElement('div');\n",
              "          docLink.innerHTML = docLinkHtml;\n",
              "          element.appendChild(docLink);\n",
              "        }\n",
              "      </script>\n",
              "    </div>\n",
              "  </div>\n",
              "  "
            ]
          },
          "metadata": {},
          "execution_count": 163
        }
      ]
    },
    {
      "cell_type": "markdown",
      "source": [],
      "metadata": {
        "id": "tXdbFBYK6_ci"
      }
    },
    {
      "cell_type": "markdown",
      "source": [
        "#PhoBert"
      ],
      "metadata": {
        "id": "7m-gV9cv6_ko"
      }
    },
    {
      "cell_type": "code",
      "source": [
        "import torch.nn as nn\n",
        "from torch.optim import AdamW\n",
        "from torch.utils.data import Dataset, DataLoader\n",
        "from transformers import get_linear_schedule_with_warmup"
      ],
      "metadata": {
        "id": "ChCb-T-Z7CIK"
      },
      "execution_count": null,
      "outputs": []
    },
    {
      "cell_type": "markdown",
      "source": [
        "##Fine tuning"
      ],
      "metadata": {
        "id": "49LojRqrLRvE"
      }
    },
    {
      "cell_type": "code",
      "source": [
        "class CommentDataset(Dataset):\n",
        "    def __init__(self, df, tokenizer, max_len=30):\n",
        "        self.df = df\n",
        "        self.max_len = max_len\n",
        "        self.tokenizer = tokenizer\n",
        "\n",
        "    def __len__(self):\n",
        "        return len(self.df)\n",
        "\n",
        "    def __getitem__(self, index):\n",
        "        row = self.df.iloc[index]\n",
        "        text, label = self.get_input_data(row)\n",
        "\n",
        "        # Encode_plus will:\n",
        "        # (1) split text into token\n",
        "        # (2) Add the '[CLS]' and '[SEP]' token to the start and end\n",
        "        # (3) Truncate/Pad sentence to max length\n",
        "        # (4) Map token to their IDS\n",
        "        # (5) Create attention mask\n",
        "        # (6) Return a dictionary of outputs\n",
        "        encoding = self.tokenizer.encode_plus(\n",
        "            text,\n",
        "            truncation=True,\n",
        "            add_special_tokens=True,\n",
        "            max_length=self.max_len,\n",
        "            padding='max_length',\n",
        "            return_attention_mask=True,\n",
        "            return_token_type_ids=False,\n",
        "            return_tensors='pt',\n",
        "        )\n",
        "\n",
        "        return {\n",
        "            'text': text,\n",
        "            'input_ids': encoding['input_ids'].flatten(),\n",
        "            'attention_masks': encoding['attention_mask'].flatten(),\n",
        "            'targets': torch.tensor(label, dtype=torch.long),\n",
        "        }\n",
        "\n",
        "    def get_input_data(self, row):\n",
        "        # Preprocessing: {remove icon, special character, lower}\n",
        "        text = row['Comment']\n",
        "        label = row['Label']\n",
        "        return text, label"
      ],
      "metadata": {
        "id": "BcmSfnk67G6D"
      },
      "execution_count": null,
      "outputs": []
    },
    {
      "cell_type": "code",
      "source": [
        "class CommentClassifier(nn.Module):\n",
        "    def __init__(self, n_classes):\n",
        "        super(CommentClassifier, self).__init__()\n",
        "        self.bert = phobert#AutoModel.from_pretrained(\"vinai/phobert-base\")\n",
        "        self.drop = nn.Dropout(p=0.3)\n",
        "        self.fc = nn.Linear(self.bert.config.hidden_size, n_classes)\n",
        "        nn.init.normal_(self.fc.weight, std=0.02)\n",
        "        nn.init.normal_(self.fc.bias, 0)\n",
        "\n",
        "    def forward(self, input_ids, attention_mask):\n",
        "        last_hidden_state, output = self.bert(\n",
        "            input_ids=input_ids,\n",
        "            attention_mask=attention_mask,\n",
        "            return_dict=False # Dropout will errors if without this\n",
        "        )\n",
        "\n",
        "        x = self.drop(output)\n",
        "        x = self.fc(x)\n",
        "        return x"
      ],
      "metadata": {
        "id": "TX5GfWyT7HpO"
      },
      "execution_count": null,
      "outputs": []
    },
    {
      "cell_type": "markdown",
      "source": [
        "##Load Model"
      ],
      "metadata": {
        "id": "6iSBSwRhLZLL"
      }
    },
    {
      "cell_type": "code",
      "source": [
        "model = CommentClassifier(n_classes = 3)\n",
        "model"
      ],
      "metadata": {
        "id": "C_8MvoW-7Jz9",
        "colab": {
          "base_uri": "https://localhost:8080/"
        },
        "outputId": "81f1deca-f1a1-4c1d-ef8a-57f267ad0916"
      },
      "execution_count": null,
      "outputs": [
        {
          "output_type": "execute_result",
          "data": {
            "text/plain": [
              "CommentClassifier(\n",
              "  (bert): RobertaModel(\n",
              "    (embeddings): RobertaEmbeddings(\n",
              "      (word_embeddings): Embedding(64001, 768, padding_idx=1)\n",
              "      (position_embeddings): Embedding(258, 768, padding_idx=1)\n",
              "      (token_type_embeddings): Embedding(1, 768)\n",
              "      (LayerNorm): LayerNorm((768,), eps=1e-05, elementwise_affine=True)\n",
              "      (dropout): Dropout(p=0.1, inplace=False)\n",
              "    )\n",
              "    (encoder): RobertaEncoder(\n",
              "      (layer): ModuleList(\n",
              "        (0-11): 12 x RobertaLayer(\n",
              "          (attention): RobertaAttention(\n",
              "            (self): RobertaSelfAttention(\n",
              "              (query): Linear(in_features=768, out_features=768, bias=True)\n",
              "              (key): Linear(in_features=768, out_features=768, bias=True)\n",
              "              (value): Linear(in_features=768, out_features=768, bias=True)\n",
              "              (dropout): Dropout(p=0.1, inplace=False)\n",
              "            )\n",
              "            (output): RobertaSelfOutput(\n",
              "              (dense): Linear(in_features=768, out_features=768, bias=True)\n",
              "              (LayerNorm): LayerNorm((768,), eps=1e-05, elementwise_affine=True)\n",
              "              (dropout): Dropout(p=0.1, inplace=False)\n",
              "            )\n",
              "          )\n",
              "          (intermediate): RobertaIntermediate(\n",
              "            (dense): Linear(in_features=768, out_features=3072, bias=True)\n",
              "            (intermediate_act_fn): GELUActivation()\n",
              "          )\n",
              "          (output): RobertaOutput(\n",
              "            (dense): Linear(in_features=3072, out_features=768, bias=True)\n",
              "            (LayerNorm): LayerNorm((768,), eps=1e-05, elementwise_affine=True)\n",
              "            (dropout): Dropout(p=0.1, inplace=False)\n",
              "          )\n",
              "        )\n",
              "      )\n",
              "    )\n",
              "    (pooler): RobertaPooler(\n",
              "      (dense): Linear(in_features=768, out_features=768, bias=True)\n",
              "      (activation): Tanh()\n",
              "    )\n",
              "  )\n",
              "  (drop): Dropout(p=0.3, inplace=False)\n",
              "  (fc): Linear(in_features=768, out_features=3, bias=True)\n",
              ")"
            ]
          },
          "metadata": {},
          "execution_count": 84
        }
      ]
    },
    {
      "cell_type": "markdown",
      "source": [
        "##Tạo hàm train và val"
      ],
      "metadata": {
        "id": "AHFM-HuaLc0S"
      }
    },
    {
      "cell_type": "code",
      "source": [
        "def train(model, criterion, optimizer, train_loader):\n",
        "    model.train()\n",
        "    losses = []\n",
        "    correct = 0\n",
        "\n",
        "    for data in train_loader:\n",
        "        input_ids = data['input_ids'].to(device)\n",
        "        attention_mask = data['attention_masks'].to(device)\n",
        "        targets = data['targets'].to(device)\n",
        "\n",
        "        optimizer.zero_grad()\n",
        "        outputs = model(\n",
        "            input_ids=input_ids,\n",
        "            attention_mask=attention_mask\n",
        "        )\n",
        "\n",
        "        loss = criterion(outputs, targets)\n",
        "        _, pred = torch.max(outputs, dim=1)\n",
        "\n",
        "        correct += torch.sum(pred == targets)\n",
        "        losses.append(loss.item())\n",
        "        loss.backward()\n",
        "        nn.utils.clip_grad_norm_(model.parameters(), max_norm=1.0)\n",
        "        optimizer.step()\n",
        "        lr_scheduler.step()\n",
        "\n",
        "    print(f'Train Accuracy: {correct.double()/len(train_loader.dataset)} Loss: {np.mean(losses)}')\n",
        "\n",
        "def eval(test_data = False):\n",
        "    model.eval()\n",
        "    losses = []\n",
        "    correct = 0\n",
        "\n",
        "    with torch.no_grad():\n",
        "        data_loader = test_loader if test_data else valid_loader\n",
        "        for data in data_loader:\n",
        "            input_ids = data['input_ids'].to(device)\n",
        "            attention_mask = data['attention_masks'].to(device)\n",
        "            targets = data['targets'].to(device)\n",
        "\n",
        "            outputs = model(\n",
        "                input_ids=input_ids,\n",
        "                attention_mask=attention_mask\n",
        "            )\n",
        "\n",
        "            _, pred = torch.max(outputs, dim=1)\n",
        "\n",
        "            loss = criterion(outputs, targets)\n",
        "            correct += torch.sum(pred == targets)\n",
        "            losses.append(loss.item())\n",
        "\n",
        "    if test_data:\n",
        "        print(f'Test Accuracy: {correct.double()/len(test_loader.dataset)} Loss: {np.mean(losses)}')\n",
        "        return correct.double()/len(test_loader.dataset)\n",
        "    else:\n",
        "        print(f'Valid Accuracy: {correct.double()/len(valid_loader.dataset)} Loss: {np.mean(losses)}')\n",
        "        return correct.double()/len(valid_loader.dataset)"
      ],
      "metadata": {
        "id": "oLXnoAmn7K_v"
      },
      "execution_count": null,
      "outputs": []
    },
    {
      "cell_type": "code",
      "source": [
        "def prepare_loaders(df):\n",
        "    df_train, df_test =  train_test_split(df, test_size = 0.20, random_state = 0, shuffle = True)\n",
        "    df_train, df_valid = train_test_split(df_train, test_size = 0.125, random_state = 0, shuffle = True)\n",
        "    train_dataset = CommentDataset(df_train, tokenizer, max_len=30)\n",
        "    valid_dataset = CommentDataset(df_valid, tokenizer, max_len=30)\n",
        "    test_dataset = CommentDataset(df_test, tokenizer, max_len=30)\n",
        "\n",
        "    train_loader = DataLoader(train_dataset, batch_size=32, shuffle=True, num_workers=2)\n",
        "    valid_loader = DataLoader(valid_dataset, batch_size=32, shuffle=True, num_workers=2)\n",
        "    test_loader = DataLoader(test_dataset, batch_size=32, shuffle=True, num_workers=2)\n",
        "\n",
        "    return train_loader, valid_loader, test_loader"
      ],
      "metadata": {
        "id": "5XODXtc97N2W"
      },
      "execution_count": null,
      "outputs": []
    },
    {
      "cell_type": "code",
      "source": [
        "best_acc = 0"
      ],
      "metadata": {
        "id": "uSZl6CEaOu6N"
      },
      "execution_count": null,
      "outputs": []
    },
    {
      "cell_type": "markdown",
      "source": [
        "##Bắt đầu train"
      ],
      "metadata": {
        "id": "Eiqlvbz_GuuN"
      }
    },
    {
      "cell_type": "code",
      "source": [
        "device = torch.device('cuda:0' if torch.cuda.is_available() else 'cpu')\n",
        "EPOCHS = 2\n",
        "model = model.to(device)"
      ],
      "metadata": {
        "id": "6nMBHm2s7PZy"
      },
      "execution_count": null,
      "outputs": []
    },
    {
      "cell_type": "code",
      "source": [
        "train_loader, valid_loader,test_loader = prepare_loaders(data)\n",
        "\n",
        "criterion = nn.CrossEntropyLoss()\n",
        "    # Recommendation by BERT: lr: 5e-5, 2e-5, 3e-5\n",
        "    # Batchsize: 16, 32\n",
        "optimizer = AdamW(model.parameters(), lr=2e-5)\n",
        "\n",
        "lr_scheduler = get_linear_schedule_with_warmup(\n",
        "            optimizer,\n",
        "            num_warmup_steps=0,\n",
        "            num_training_steps=len(train_loader)*EPOCHS\n",
        "        )\n",
        "for epoch in range(EPOCHS):\n",
        "    print(f'Epoch {epoch+1}/{EPOCHS}')\n",
        "    print('-'*30)\n",
        "\n",
        "    train(model, criterion, optimizer, train_loader)\n",
        "    val_acc = eval()\n",
        "\n",
        "    if val_acc > best_acc:\n",
        "        torch.save(model.state_dict(), 'phobert.pth')\n",
        "        best_acc = val_acc"
      ],
      "metadata": {
        "id": "274j6c3T7Qqt",
        "colab": {
          "base_uri": "https://localhost:8080/",
          "height": 450
        },
        "outputId": "1f7c67bf-756c-4cf3-fbbe-f6eacb67bca6"
      },
      "execution_count": null,
      "outputs": [
        {
          "output_type": "stream",
          "name": "stdout",
          "text": [
            "Epoch 1/2\n",
            "------------------------------\n"
          ]
        },
        {
          "output_type": "error",
          "ename": "KeyboardInterrupt",
          "evalue": "ignored",
          "traceback": [
            "\u001b[0;31m---------------------------------------------------------------------------\u001b[0m",
            "\u001b[0;31mKeyboardInterrupt\u001b[0m                         Traceback (most recent call last)",
            "\u001b[0;32m<ipython-input-96-ec0eabd80cd1>\u001b[0m in \u001b[0;36m<cell line: 13>\u001b[0;34m()\u001b[0m\n\u001b[1;32m     15\u001b[0m     \u001b[0mprint\u001b[0m\u001b[0;34m(\u001b[0m\u001b[0;34m'-'\u001b[0m\u001b[0;34m*\u001b[0m\u001b[0;36m30\u001b[0m\u001b[0;34m)\u001b[0m\u001b[0;34m\u001b[0m\u001b[0;34m\u001b[0m\u001b[0m\n\u001b[1;32m     16\u001b[0m \u001b[0;34m\u001b[0m\u001b[0m\n\u001b[0;32m---> 17\u001b[0;31m     \u001b[0mtrain\u001b[0m\u001b[0;34m(\u001b[0m\u001b[0mmodel\u001b[0m\u001b[0;34m,\u001b[0m \u001b[0mcriterion\u001b[0m\u001b[0;34m,\u001b[0m \u001b[0moptimizer\u001b[0m\u001b[0;34m,\u001b[0m \u001b[0mtrain_loader\u001b[0m\u001b[0;34m)\u001b[0m\u001b[0;34m\u001b[0m\u001b[0;34m\u001b[0m\u001b[0m\n\u001b[0m\u001b[1;32m     18\u001b[0m     \u001b[0mval_acc\u001b[0m \u001b[0;34m=\u001b[0m \u001b[0meval\u001b[0m\u001b[0;34m(\u001b[0m\u001b[0;34m)\u001b[0m\u001b[0;34m\u001b[0m\u001b[0;34m\u001b[0m\u001b[0m\n\u001b[1;32m     19\u001b[0m \u001b[0;34m\u001b[0m\u001b[0m\n",
            "\u001b[0;32m<ipython-input-95-30004e0a03ac>\u001b[0m in \u001b[0;36mtrain\u001b[0;34m(model, criterion, optimizer, train_loader)\u001b[0m\n\u001b[1;32m     20\u001b[0m         \u001b[0mcorrect\u001b[0m \u001b[0;34m+=\u001b[0m \u001b[0mtorch\u001b[0m\u001b[0;34m.\u001b[0m\u001b[0msum\u001b[0m\u001b[0;34m(\u001b[0m\u001b[0mpred\u001b[0m \u001b[0;34m==\u001b[0m \u001b[0mtargets\u001b[0m\u001b[0;34m)\u001b[0m\u001b[0;34m\u001b[0m\u001b[0;34m\u001b[0m\u001b[0m\n\u001b[1;32m     21\u001b[0m         \u001b[0mlosses\u001b[0m\u001b[0;34m.\u001b[0m\u001b[0mappend\u001b[0m\u001b[0;34m(\u001b[0m\u001b[0mloss\u001b[0m\u001b[0;34m.\u001b[0m\u001b[0mitem\u001b[0m\u001b[0;34m(\u001b[0m\u001b[0;34m)\u001b[0m\u001b[0;34m)\u001b[0m\u001b[0;34m\u001b[0m\u001b[0;34m\u001b[0m\u001b[0m\n\u001b[0;32m---> 22\u001b[0;31m         \u001b[0mloss\u001b[0m\u001b[0;34m.\u001b[0m\u001b[0mbackward\u001b[0m\u001b[0;34m(\u001b[0m\u001b[0;34m)\u001b[0m\u001b[0;34m\u001b[0m\u001b[0;34m\u001b[0m\u001b[0m\n\u001b[0m\u001b[1;32m     23\u001b[0m         \u001b[0mnn\u001b[0m\u001b[0;34m.\u001b[0m\u001b[0mutils\u001b[0m\u001b[0;34m.\u001b[0m\u001b[0mclip_grad_norm_\u001b[0m\u001b[0;34m(\u001b[0m\u001b[0mmodel\u001b[0m\u001b[0;34m.\u001b[0m\u001b[0mparameters\u001b[0m\u001b[0;34m(\u001b[0m\u001b[0;34m)\u001b[0m\u001b[0;34m,\u001b[0m \u001b[0mmax_norm\u001b[0m\u001b[0;34m=\u001b[0m\u001b[0;36m1.0\u001b[0m\u001b[0;34m)\u001b[0m\u001b[0;34m\u001b[0m\u001b[0;34m\u001b[0m\u001b[0m\n\u001b[1;32m     24\u001b[0m         \u001b[0moptimizer\u001b[0m\u001b[0;34m.\u001b[0m\u001b[0mstep\u001b[0m\u001b[0;34m(\u001b[0m\u001b[0;34m)\u001b[0m\u001b[0;34m\u001b[0m\u001b[0;34m\u001b[0m\u001b[0m\n",
            "\u001b[0;32m/usr/local/lib/python3.10/dist-packages/torch/_tensor.py\u001b[0m in \u001b[0;36mbackward\u001b[0;34m(self, gradient, retain_graph, create_graph, inputs)\u001b[0m\n\u001b[1;32m    485\u001b[0m                 \u001b[0minputs\u001b[0m\u001b[0;34m=\u001b[0m\u001b[0minputs\u001b[0m\u001b[0;34m,\u001b[0m\u001b[0;34m\u001b[0m\u001b[0;34m\u001b[0m\u001b[0m\n\u001b[1;32m    486\u001b[0m             )\n\u001b[0;32m--> 487\u001b[0;31m         torch.autograd.backward(\n\u001b[0m\u001b[1;32m    488\u001b[0m             \u001b[0mself\u001b[0m\u001b[0;34m,\u001b[0m \u001b[0mgradient\u001b[0m\u001b[0;34m,\u001b[0m \u001b[0mretain_graph\u001b[0m\u001b[0;34m,\u001b[0m \u001b[0mcreate_graph\u001b[0m\u001b[0;34m,\u001b[0m \u001b[0minputs\u001b[0m\u001b[0;34m=\u001b[0m\u001b[0minputs\u001b[0m\u001b[0;34m\u001b[0m\u001b[0;34m\u001b[0m\u001b[0m\n\u001b[1;32m    489\u001b[0m         )\n",
            "\u001b[0;32m/usr/local/lib/python3.10/dist-packages/torch/autograd/__init__.py\u001b[0m in \u001b[0;36mbackward\u001b[0;34m(tensors, grad_tensors, retain_graph, create_graph, grad_variables, inputs)\u001b[0m\n\u001b[1;32m    198\u001b[0m     \u001b[0;31m# some Python versions print out the first line of a multi-line function\u001b[0m\u001b[0;34m\u001b[0m\u001b[0;34m\u001b[0m\u001b[0m\n\u001b[1;32m    199\u001b[0m     \u001b[0;31m# calls in the traceback and some print out the last line\u001b[0m\u001b[0;34m\u001b[0m\u001b[0;34m\u001b[0m\u001b[0m\n\u001b[0;32m--> 200\u001b[0;31m     Variable._execution_engine.run_backward(  # Calls into the C++ engine to run the backward pass\n\u001b[0m\u001b[1;32m    201\u001b[0m         \u001b[0mtensors\u001b[0m\u001b[0;34m,\u001b[0m \u001b[0mgrad_tensors_\u001b[0m\u001b[0;34m,\u001b[0m \u001b[0mretain_graph\u001b[0m\u001b[0;34m,\u001b[0m \u001b[0mcreate_graph\u001b[0m\u001b[0;34m,\u001b[0m \u001b[0minputs\u001b[0m\u001b[0;34m,\u001b[0m\u001b[0;34m\u001b[0m\u001b[0;34m\u001b[0m\u001b[0m\n\u001b[1;32m    202\u001b[0m         allow_unreachable=True, accumulate_grad=True)  # Calls into the C++ engine to run the backward pass\n",
            "\u001b[0;31mKeyboardInterrupt\u001b[0m: "
          ]
        }
      ]
    },
    {
      "cell_type": "markdown",
      "source": [
        "##Pred && Eval"
      ],
      "metadata": {
        "id": "fmBeAj3kxZCm"
      }
    },
    {
      "cell_type": "code",
      "source": [
        "y = []\n",
        "y_ = []\n",
        "train_loader, valid_loader,test_loader = prepare_loaders(data)\n",
        "model.eval()\n",
        "with torch.no_grad():\n",
        "        data_loader = test_loader\n",
        "        for dat in data_loader:\n",
        "            input_ids = dat['input_ids'].to(device)\n",
        "            attention_mask = dat['attention_masks'].to(device)\n",
        "            targets = dat['targets'].to(device)\n",
        "            for i in targets:\n",
        "                y.append(i)\n",
        "            outputs = model(\n",
        "                input_ids=input_ids,\n",
        "                attention_mask=attention_mask\n",
        "            )\n",
        "\n",
        "            _, pred = torch.max(outputs, dim=1)\n",
        "            for i in pred:\n",
        "                y_.append(i)\n",
        "\n",
        "            #loss = criterion(outputs, targets)\n",
        "            #correct += torch.sum(pred == targets)\n",
        "            #losses.append(loss.item())"
      ],
      "metadata": {
        "id": "yAMujROK7SSc"
      },
      "execution_count": null,
      "outputs": []
    },
    {
      "cell_type": "code",
      "source": [
        "print(f\"Accuracy: {accuracy_score(y,y_)}\")\n",
        "print(classification_report(y,y_))"
      ],
      "metadata": {
        "id": "--6Xcldp7TuY",
        "colab": {
          "base_uri": "https://localhost:8080/"
        },
        "outputId": "7151c697-57d9-4af7-cf69-b640587e04b7"
      },
      "execution_count": null,
      "outputs": [
        {
          "output_type": "stream",
          "name": "stdout",
          "text": [
            "Accuracy: 0.863487611033193\n",
            "              precision    recall  f1-score   support\n",
            "\n",
            "           0       0.94      0.93      0.93      1544\n",
            "           1       0.65      0.72      0.68       372\n",
            "           2       0.73      0.65      0.69       223\n",
            "\n",
            "    accuracy                           0.86      2139\n",
            "   macro avg       0.77      0.77      0.77      2139\n",
            "weighted avg       0.87      0.86      0.86      2139\n",
            "\n"
          ]
        }
      ]
    },
    {
      "cell_type": "code",
      "source": [
        "print(f\"Accuracy PhoBERT: {accuracy_score(y,y_)}\")\n",
        "print (\"Precision:\",precision_score(y,y_,average='macro'))\n",
        "print (\"Recall:\",recall_score(y,y_,average='macro'))\n",
        "print (\"F1:\",f1_score(y,y_,average='macro'))"
      ],
      "metadata": {
        "colab": {
          "base_uri": "https://localhost:8080/"
        },
        "id": "h18T19bbzLeT",
        "outputId": "d608ddf1-ce2f-4a63-8956-247ca3cddd92"
      },
      "execution_count": null,
      "outputs": [
        {
          "output_type": "stream",
          "name": "stdout",
          "text": [
            "Accuracy PhoBERT: 0.863487611033193\n",
            "Precision: 0.7731307326418312\n",
            "Recall: 0.7663888095659842\n",
            "F1: 0.7684406537326535\n"
          ]
        }
      ]
    },
    {
      "cell_type": "code",
      "source": [
        "cf = confusion_matrix (y,y_)\n",
        "label_name = ['Non Toxic','Toxic','Very Toxic']\n",
        "sns.set(font_scale=1.)\n",
        "sns.heatmap(cf, annot=True,xticklabels=label_name,yticklabels=label_name, annot_kws={\"size\": 12},fmt='d')\n",
        "plt.title (\"Confusion Matrix - Transfer Learning Model (Use PhoBERT)\",fontsize=12)\n",
        "plt.xlabel('Predicted',fontsize=12)\n",
        "plt.ylabel('True',fontsize=12)\n",
        "plt.show()"
      ],
      "metadata": {
        "colab": {
          "base_uri": "https://localhost:8080/",
          "height": 480
        },
        "id": "yKMKJSPtBH9Z",
        "outputId": "9c3d5477-0825-4b79-ed55-210c907eed22"
      },
      "execution_count": null,
      "outputs": [
        {
          "output_type": "display_data",
          "data": {
            "text/plain": [
              "<Figure size 640x480 with 2 Axes>"
            ],
            "image/png": "[encoded data removed]"
          },
          "metadata": {}
        }
      ]
    },
    {
      "cell_type": "code",
      "source": [
        "sentence_difference = list ()\n",
        "predict_label = list ()\n",
        "true_label = list ()\n",
        "\n",
        "for i in range (len(pred_rdf)):\n",
        "  if pred_rdf[i] != ytest[i]:\n",
        "    sentence_difference.append (xtest[i])\n",
        "    true_label.append (ytest[i])\n",
        "    predict_label.append (pred_rdf[i])\n",
        "#print (diff_list)\n",
        "\n",
        "dict_df = {\n",
        "    \"Sentence\": sentence_difference,\n",
        "    \"Predict\": predict_label,\n",
        "    \"True\": true_label\n",
        "}\n",
        "\n",
        "#Print the headline has different predict with true label\n",
        "df_differ = pd.DataFrame (dict_df)\n",
        "#Xuất thành file csv\n",
        "#df_differ.to_csv(\"/content/differ_in_predict.csv\")\n",
        "\n",
        "df_differ"
      ],
      "metadata": {
        "id": "7Q3I-WO1w5gR"
      },
      "execution_count": null,
      "outputs": []
    },
    {
      "cell_type": "markdown",
      "source": [
        "#Load model đã train trước đó"
      ],
      "metadata": {
        "id": "qCA6ImPuGgba"
      }
    },
    {
      "cell_type": "code",
      "source": [
        "model = CommentClassifier(n_classes = 3)\n",
        "model.load_state_dict(torch.load('phobert.pth'))"
      ],
      "metadata": {
        "id": "nqcN5yGE7VbG",
        "colab": {
          "base_uri": "https://localhost:8080/"
        },
        "outputId": "d800a29b-8188-4677-813c-ca614a016150"
      },
      "execution_count": null,
      "outputs": [
        {
          "output_type": "execute_result",
          "data": {
            "text/plain": [
              "<All keys matched successfully>"
            ]
          },
          "metadata": {},
          "execution_count": 86
        }
      ]
    },
    {
      "cell_type": "markdown",
      "source": [
        "#Lưu model qua drive"
      ],
      "metadata": {
        "id": "4zNJwywaGqw7"
      }
    },
    {
      "cell_type": "code",
      "source": [
        "!cp  '/content/drive/MyDrive/CS114/Final_Project/phobert.pth' '/content/phobert.pth'"
      ],
      "metadata": {
        "id": "0m3okjEN7XVb"
      },
      "execution_count": null,
      "outputs": []
    }
  ]
}